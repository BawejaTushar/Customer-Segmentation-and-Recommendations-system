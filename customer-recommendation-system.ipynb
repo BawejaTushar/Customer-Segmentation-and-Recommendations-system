{
 "cells": [
  {
   "cell_type": "markdown",
   "id": "1987024f",
   "metadata": {
    "papermill": {
     "duration": 0.010563,
     "end_time": "2025-09-18T22:11:00.819190",
     "exception": false,
     "start_time": "2025-09-18T22:11:00.808627",
     "status": "completed"
    },
    "tags": []
   },
   "source": [
    "# Customer Recommendation System"
   ]
  },
  {
   "cell_type": "markdown",
   "id": "da6f5b68",
   "metadata": {
    "papermill": {
     "duration": 0.009065,
     "end_time": "2025-09-18T22:11:00.837839",
     "exception": false,
     "start_time": "2025-09-18T22:11:00.828774",
     "status": "completed"
    },
    "tags": []
   },
   "source": [
    "## Introduction\n",
    "\n",
    "In this project, we were given transactional data, and we will use that data to analyse customer behaviour and patterns to create our recommendation system. First, we will **transform this dataset to segment our customers into different groups to find patterns**, which will help in our analysis (clustering them using **K-means clustering**)."
   ]
  },
  {
   "cell_type": "markdown",
   "id": "5452c04a",
   "metadata": {
    "papermill": {
     "duration": 0.009725,
     "end_time": "2025-09-18T22:11:00.856918",
     "exception": false,
     "start_time": "2025-09-18T22:11:00.847193",
     "status": "completed"
    },
    "tags": []
   },
   "source": [
    "## Approach\n",
    "\n",
    "We will use a standard data scientist approach to the problem.\n",
    "1. Objective: Utilising the transaction dataset to create a Recommendation System.\n",
    "\n",
    "2. Data Preparation:\n",
    "   * In this project we will use [**<u>ecommerce data</u>**](https://www.kaggle.com/datasets/carrie1/ecommerce-data). We transform and clean the data into a usable format.\n",
    "\n",
    "3. Data Preprocessing:\n",
    "   * Creating new features to better support the analysis and model development. Streamline the data by feature scaling and dimensionality reduction.\n",
    "  \n",
    "4. Segmentation:\n",
    "   * Using K-means clustering, segmenting the customers into distinct groups.\n",
    "  \n",
    "5. Analysis:\n",
    "   * Analysing and evaluating the clusters to develop market strategies.\n",
    "  \n",
    "6. Recommendation System:\n",
    "   * Finalising the Recommendation system and evaluating its efficiency with our project's objective."
   ]
  },
  {
   "cell_type": "markdown",
   "id": "8f8b7e03",
   "metadata": {
    "papermill": {
     "duration": 0.008973,
     "end_time": "2025-09-18T22:11:00.875327",
     "exception": false,
     "start_time": "2025-09-18T22:11:00.866354",
     "status": "completed"
    },
    "tags": []
   },
   "source": [
    "### Setting Up the environment."
   ]
  },
  {
   "cell_type": "code",
   "execution_count": 1,
   "id": "f2360583",
   "metadata": {
    "_cell_guid": "b1076dfc-b9ad-4769-8c92-a6c4dae69d19",
    "_uuid": "8f2839f25d086af736a60e9eeb907d3b93b6e0e5",
    "execution": {
     "iopub.execute_input": "2025-09-18T22:11:00.895087Z",
     "iopub.status.busy": "2025-09-18T22:11:00.894715Z",
     "iopub.status.idle": "2025-09-18T22:11:03.089457Z",
     "shell.execute_reply": "2025-09-18T22:11:03.088373Z"
    },
    "papermill": {
     "duration": 2.206651,
     "end_time": "2025-09-18T22:11:03.091129",
     "exception": false,
     "start_time": "2025-09-18T22:11:00.884478",
     "status": "completed"
    },
    "tags": []
   },
   "outputs": [
    {
     "name": "stdout",
     "output_type": "stream",
     "text": [
      "/kaggle/input/ecommerce-data/data.csv\n"
     ]
    }
   ],
   "source": [
    "# This Python 3 environment comes with many helpful analytics libraries installed\n",
    "# It is defined by the kaggle/python Docker image: https://github.com/kaggle/docker-python\n",
    "# For example, here's several helpful packages to load\n",
    "\n",
    "import numpy as np # linear algebra\n",
    "import pandas as pd # data processing, CSV file I/O (e.g. pd.read_csv)\n",
    "\n",
    "# Input data files are available in the read-only \"../input/\" directory\n",
    "# For example, running this (by clicking run or pressing Shift+Enter) will list all files under the input directory\n",
    "\n",
    "import os\n",
    "for dirname, _, filenames in os.walk('/kaggle/input'):\n",
    "    for filename in filenames:\n",
    "        print(os.path.join(dirname, filename))\n",
    "\n",
    "# You can write up to 20GB to the current directory (/kaggle/working/) that gets preserved as output when you create a version using \"Save & Run All\" \n",
    "# You can also write temporary files to /kaggle/temp/, but they won't be saved outside of the current session"
   ]
  },
  {
   "cell_type": "code",
   "execution_count": 2,
   "id": "c54427e9",
   "metadata": {
    "execution": {
     "iopub.execute_input": "2025-09-18T22:11:03.111251Z",
     "iopub.status.busy": "2025-09-18T22:11:03.110803Z",
     "iopub.status.idle": "2025-09-18T22:11:06.436299Z",
     "shell.execute_reply": "2025-09-18T22:11:06.435217Z"
    },
    "papermill": {
     "duration": 3.337622,
     "end_time": "2025-09-18T22:11:06.438139",
     "exception": false,
     "start_time": "2025-09-18T22:11:03.100517",
     "status": "completed"
    },
    "tags": []
   },
   "outputs": [],
   "source": [
    "import warnings\n",
    "warnings.filterwarnings('ignore')\n",
    "\n",
    "import seaborn as sns\n",
    "import matplotlib.pyplot as plt\n",
    "from sklearn.cluster import KMeans\n",
    "from sklearn.linear_model import LinearRegression"
   ]
  },
  {
   "cell_type": "markdown",
   "id": "0cd820d8",
   "metadata": {
    "papermill": {
     "duration": 0.009585,
     "end_time": "2025-09-18T22:11:06.457628",
     "exception": false,
     "start_time": "2025-09-18T22:11:06.448043",
     "status": "completed"
    },
    "tags": []
   },
   "source": [
    "## Data Preparation"
   ]
  },
  {
   "cell_type": "code",
   "execution_count": 3,
   "id": "08658327",
   "metadata": {
    "execution": {
     "iopub.execute_input": "2025-09-18T22:11:06.478147Z",
     "iopub.status.busy": "2025-09-18T22:11:06.477671Z",
     "iopub.status.idle": "2025-09-18T22:11:07.800437Z",
     "shell.execute_reply": "2025-09-18T22:11:07.799424Z"
    },
    "papermill": {
     "duration": 1.335108,
     "end_time": "2025-09-18T22:11:07.802118",
     "exception": false,
     "start_time": "2025-09-18T22:11:06.467010",
     "status": "completed"
    },
    "tags": []
   },
   "outputs": [
    {
     "data": {
      "text/html": [
       "<div>\n",
       "<style scoped>\n",
       "    .dataframe tbody tr th:only-of-type {\n",
       "        vertical-align: middle;\n",
       "    }\n",
       "\n",
       "    .dataframe tbody tr th {\n",
       "        vertical-align: top;\n",
       "    }\n",
       "\n",
       "    .dataframe thead th {\n",
       "        text-align: right;\n",
       "    }\n",
       "</style>\n",
       "<table border=\"1\" class=\"dataframe\">\n",
       "  <thead>\n",
       "    <tr style=\"text-align: right;\">\n",
       "      <th></th>\n",
       "      <th>InvoiceNo</th>\n",
       "      <th>StockCode</th>\n",
       "      <th>Description</th>\n",
       "      <th>Quantity</th>\n",
       "      <th>InvoiceDate</th>\n",
       "      <th>UnitPrice</th>\n",
       "      <th>CustomerID</th>\n",
       "      <th>Country</th>\n",
       "    </tr>\n",
       "  </thead>\n",
       "  <tbody>\n",
       "    <tr>\n",
       "      <th>0</th>\n",
       "      <td>536365</td>\n",
       "      <td>85123A</td>\n",
       "      <td>WHITE HANGING HEART T-LIGHT HOLDER</td>\n",
       "      <td>6</td>\n",
       "      <td>12/1/2010 8:26</td>\n",
       "      <td>2.55</td>\n",
       "      <td>17850.0</td>\n",
       "      <td>United Kingdom</td>\n",
       "    </tr>\n",
       "    <tr>\n",
       "      <th>1</th>\n",
       "      <td>536365</td>\n",
       "      <td>71053</td>\n",
       "      <td>WHITE METAL LANTERN</td>\n",
       "      <td>6</td>\n",
       "      <td>12/1/2010 8:26</td>\n",
       "      <td>3.39</td>\n",
       "      <td>17850.0</td>\n",
       "      <td>United Kingdom</td>\n",
       "    </tr>\n",
       "    <tr>\n",
       "      <th>2</th>\n",
       "      <td>536365</td>\n",
       "      <td>84406B</td>\n",
       "      <td>CREAM CUPID HEARTS COAT HANGER</td>\n",
       "      <td>8</td>\n",
       "      <td>12/1/2010 8:26</td>\n",
       "      <td>2.75</td>\n",
       "      <td>17850.0</td>\n",
       "      <td>United Kingdom</td>\n",
       "    </tr>\n",
       "    <tr>\n",
       "      <th>3</th>\n",
       "      <td>536365</td>\n",
       "      <td>84029G</td>\n",
       "      <td>KNITTED UNION FLAG HOT WATER BOTTLE</td>\n",
       "      <td>6</td>\n",
       "      <td>12/1/2010 8:26</td>\n",
       "      <td>3.39</td>\n",
       "      <td>17850.0</td>\n",
       "      <td>United Kingdom</td>\n",
       "    </tr>\n",
       "    <tr>\n",
       "      <th>4</th>\n",
       "      <td>536365</td>\n",
       "      <td>84029E</td>\n",
       "      <td>RED WOOLLY HOTTIE WHITE HEART.</td>\n",
       "      <td>6</td>\n",
       "      <td>12/1/2010 8:26</td>\n",
       "      <td>3.39</td>\n",
       "      <td>17850.0</td>\n",
       "      <td>United Kingdom</td>\n",
       "    </tr>\n",
       "    <tr>\n",
       "      <th>5</th>\n",
       "      <td>536365</td>\n",
       "      <td>22752</td>\n",
       "      <td>SET 7 BABUSHKA NESTING BOXES</td>\n",
       "      <td>2</td>\n",
       "      <td>12/1/2010 8:26</td>\n",
       "      <td>7.65</td>\n",
       "      <td>17850.0</td>\n",
       "      <td>United Kingdom</td>\n",
       "    </tr>\n",
       "    <tr>\n",
       "      <th>6</th>\n",
       "      <td>536365</td>\n",
       "      <td>21730</td>\n",
       "      <td>GLASS STAR FROSTED T-LIGHT HOLDER</td>\n",
       "      <td>6</td>\n",
       "      <td>12/1/2010 8:26</td>\n",
       "      <td>4.25</td>\n",
       "      <td>17850.0</td>\n",
       "      <td>United Kingdom</td>\n",
       "    </tr>\n",
       "    <tr>\n",
       "      <th>7</th>\n",
       "      <td>536366</td>\n",
       "      <td>22633</td>\n",
       "      <td>HAND WARMER UNION JACK</td>\n",
       "      <td>6</td>\n",
       "      <td>12/1/2010 8:28</td>\n",
       "      <td>1.85</td>\n",
       "      <td>17850.0</td>\n",
       "      <td>United Kingdom</td>\n",
       "    </tr>\n",
       "    <tr>\n",
       "      <th>8</th>\n",
       "      <td>536366</td>\n",
       "      <td>22632</td>\n",
       "      <td>HAND WARMER RED POLKA DOT</td>\n",
       "      <td>6</td>\n",
       "      <td>12/1/2010 8:28</td>\n",
       "      <td>1.85</td>\n",
       "      <td>17850.0</td>\n",
       "      <td>United Kingdom</td>\n",
       "    </tr>\n",
       "    <tr>\n",
       "      <th>9</th>\n",
       "      <td>536367</td>\n",
       "      <td>84879</td>\n",
       "      <td>ASSORTED COLOUR BIRD ORNAMENT</td>\n",
       "      <td>32</td>\n",
       "      <td>12/1/2010 8:34</td>\n",
       "      <td>1.69</td>\n",
       "      <td>13047.0</td>\n",
       "      <td>United Kingdom</td>\n",
       "    </tr>\n",
       "    <tr>\n",
       "      <th>10</th>\n",
       "      <td>536367</td>\n",
       "      <td>22745</td>\n",
       "      <td>POPPY'S PLAYHOUSE BEDROOM</td>\n",
       "      <td>6</td>\n",
       "      <td>12/1/2010 8:34</td>\n",
       "      <td>2.10</td>\n",
       "      <td>13047.0</td>\n",
       "      <td>United Kingdom</td>\n",
       "    </tr>\n",
       "    <tr>\n",
       "      <th>11</th>\n",
       "      <td>536367</td>\n",
       "      <td>22748</td>\n",
       "      <td>POPPY'S PLAYHOUSE KITCHEN</td>\n",
       "      <td>6</td>\n",
       "      <td>12/1/2010 8:34</td>\n",
       "      <td>2.10</td>\n",
       "      <td>13047.0</td>\n",
       "      <td>United Kingdom</td>\n",
       "    </tr>\n",
       "    <tr>\n",
       "      <th>12</th>\n",
       "      <td>536367</td>\n",
       "      <td>22749</td>\n",
       "      <td>FELTCRAFT PRINCESS CHARLOTTE DOLL</td>\n",
       "      <td>8</td>\n",
       "      <td>12/1/2010 8:34</td>\n",
       "      <td>3.75</td>\n",
       "      <td>13047.0</td>\n",
       "      <td>United Kingdom</td>\n",
       "    </tr>\n",
       "    <tr>\n",
       "      <th>13</th>\n",
       "      <td>536367</td>\n",
       "      <td>22310</td>\n",
       "      <td>IVORY KNITTED MUG COSY</td>\n",
       "      <td>6</td>\n",
       "      <td>12/1/2010 8:34</td>\n",
       "      <td>1.65</td>\n",
       "      <td>13047.0</td>\n",
       "      <td>United Kingdom</td>\n",
       "    </tr>\n",
       "    <tr>\n",
       "      <th>14</th>\n",
       "      <td>536367</td>\n",
       "      <td>84969</td>\n",
       "      <td>BOX OF 6 ASSORTED COLOUR TEASPOONS</td>\n",
       "      <td>6</td>\n",
       "      <td>12/1/2010 8:34</td>\n",
       "      <td>4.25</td>\n",
       "      <td>13047.0</td>\n",
       "      <td>United Kingdom</td>\n",
       "    </tr>\n",
       "  </tbody>\n",
       "</table>\n",
       "</div>"
      ],
      "text/plain": [
       "   InvoiceNo StockCode                          Description  Quantity  \\\n",
       "0     536365    85123A   WHITE HANGING HEART T-LIGHT HOLDER         6   \n",
       "1     536365     71053                  WHITE METAL LANTERN         6   \n",
       "2     536365    84406B       CREAM CUPID HEARTS COAT HANGER         8   \n",
       "3     536365    84029G  KNITTED UNION FLAG HOT WATER BOTTLE         6   \n",
       "4     536365    84029E       RED WOOLLY HOTTIE WHITE HEART.         6   \n",
       "5     536365     22752         SET 7 BABUSHKA NESTING BOXES         2   \n",
       "6     536365     21730    GLASS STAR FROSTED T-LIGHT HOLDER         6   \n",
       "7     536366     22633               HAND WARMER UNION JACK         6   \n",
       "8     536366     22632            HAND WARMER RED POLKA DOT         6   \n",
       "9     536367     84879        ASSORTED COLOUR BIRD ORNAMENT        32   \n",
       "10    536367     22745           POPPY'S PLAYHOUSE BEDROOM          6   \n",
       "11    536367     22748            POPPY'S PLAYHOUSE KITCHEN         6   \n",
       "12    536367     22749    FELTCRAFT PRINCESS CHARLOTTE DOLL         8   \n",
       "13    536367     22310              IVORY KNITTED MUG COSY          6   \n",
       "14    536367     84969   BOX OF 6 ASSORTED COLOUR TEASPOONS         6   \n",
       "\n",
       "       InvoiceDate  UnitPrice  CustomerID         Country  \n",
       "0   12/1/2010 8:26       2.55     17850.0  United Kingdom  \n",
       "1   12/1/2010 8:26       3.39     17850.0  United Kingdom  \n",
       "2   12/1/2010 8:26       2.75     17850.0  United Kingdom  \n",
       "3   12/1/2010 8:26       3.39     17850.0  United Kingdom  \n",
       "4   12/1/2010 8:26       3.39     17850.0  United Kingdom  \n",
       "5   12/1/2010 8:26       7.65     17850.0  United Kingdom  \n",
       "6   12/1/2010 8:26       4.25     17850.0  United Kingdom  \n",
       "7   12/1/2010 8:28       1.85     17850.0  United Kingdom  \n",
       "8   12/1/2010 8:28       1.85     17850.0  United Kingdom  \n",
       "9   12/1/2010 8:34       1.69     13047.0  United Kingdom  \n",
       "10  12/1/2010 8:34       2.10     13047.0  United Kingdom  \n",
       "11  12/1/2010 8:34       2.10     13047.0  United Kingdom  \n",
       "12  12/1/2010 8:34       3.75     13047.0  United Kingdom  \n",
       "13  12/1/2010 8:34       1.65     13047.0  United Kingdom  \n",
       "14  12/1/2010 8:34       4.25     13047.0  United Kingdom  "
      ]
     },
     "execution_count": 3,
     "metadata": {},
     "output_type": "execute_result"
    }
   ],
   "source": [
    "df = pd.read_csv('/kaggle/input/ecommerce-data/data.csv', encoding =\"latin1\" )\n",
    "df.head(15)"
   ]
  },
  {
   "cell_type": "code",
   "execution_count": 4,
   "id": "70c15205",
   "metadata": {
    "execution": {
     "iopub.execute_input": "2025-09-18T22:11:07.823520Z",
     "iopub.status.busy": "2025-09-18T22:11:07.822683Z",
     "iopub.status.idle": "2025-09-18T22:11:07.996536Z",
     "shell.execute_reply": "2025-09-18T22:11:07.995368Z"
    },
    "papermill": {
     "duration": 0.186133,
     "end_time": "2025-09-18T22:11:07.998232",
     "exception": false,
     "start_time": "2025-09-18T22:11:07.812099",
     "status": "completed"
    },
    "tags": []
   },
   "outputs": [
    {
     "name": "stdout",
     "output_type": "stream",
     "text": [
      "<class 'pandas.core.frame.DataFrame'>\n",
      "RangeIndex: 541909 entries, 0 to 541908\n",
      "Data columns (total 8 columns):\n",
      " #   Column       Non-Null Count   Dtype  \n",
      "---  ------       --------------   -----  \n",
      " 0   InvoiceNo    541909 non-null  object \n",
      " 1   StockCode    541909 non-null  object \n",
      " 2   Description  540455 non-null  object \n",
      " 3   Quantity     541909 non-null  int64  \n",
      " 4   InvoiceDate  541909 non-null  object \n",
      " 5   UnitPrice    541909 non-null  float64\n",
      " 6   CustomerID   406829 non-null  float64\n",
      " 7   Country      541909 non-null  object \n",
      "dtypes: float64(2), int64(1), object(5)\n",
      "memory usage: 33.1+ MB\n"
     ]
    }
   ],
   "source": [
    "df.info()"
   ]
  },
  {
   "cell_type": "code",
   "execution_count": 5,
   "id": "e978ee0b",
   "metadata": {
    "execution": {
     "iopub.execute_input": "2025-09-18T22:11:08.019101Z",
     "iopub.status.busy": "2025-09-18T22:11:08.018725Z",
     "iopub.status.idle": "2025-09-18T22:11:08.305764Z",
     "shell.execute_reply": "2025-09-18T22:11:08.304631Z"
    },
    "papermill": {
     "duration": 0.299339,
     "end_time": "2025-09-18T22:11:08.307396",
     "exception": false,
     "start_time": "2025-09-18T22:11:08.008057",
     "status": "completed"
    },
    "tags": []
   },
   "outputs": [
    {
     "data": {
      "text/plain": [
       "InvoiceNo           0\n",
       "StockCode           0\n",
       "Description      1454\n",
       "Quantity            0\n",
       "InvoiceDate         0\n",
       "UnitPrice           0\n",
       "CustomerID     135080\n",
       "Country             0\n",
       "dtype: int64"
      ]
     },
     "execution_count": 5,
     "metadata": {},
     "output_type": "execute_result"
    }
   ],
   "source": [
    "df.isnull().sum()\n",
    "df.isna().sum()"
   ]
  },
  {
   "cell_type": "markdown",
   "id": "25d3b6b4",
   "metadata": {
    "papermill": {
     "duration": 0.00979,
     "end_time": "2025-09-18T22:11:08.327105",
     "exception": false,
     "start_time": "2025-09-18T22:11:08.317315",
     "status": "completed"
    },
    "tags": []
   },
   "source": [
    "#### Observation !!\n",
    "From above steps we have observed that we have missing values in Description column, and customerID coulumn. It is also noticeable that the same customer has ordered multiple times on the same day."
   ]
  },
  {
   "cell_type": "code",
   "execution_count": 6,
   "id": "fd102dfd",
   "metadata": {
    "execution": {
     "iopub.execute_input": "2025-09-18T22:11:08.348203Z",
     "iopub.status.busy": "2025-09-18T22:11:08.347716Z",
     "iopub.status.idle": "2025-09-18T22:11:08.428563Z",
     "shell.execute_reply": "2025-09-18T22:11:08.427456Z"
    },
    "papermill": {
     "duration": 0.093479,
     "end_time": "2025-09-18T22:11:08.430195",
     "exception": false,
     "start_time": "2025-09-18T22:11:08.336716",
     "status": "completed"
    },
    "tags": []
   },
   "outputs": [
    {
     "data": {
      "text/html": [
       "<div>\n",
       "<style scoped>\n",
       "    .dataframe tbody tr th:only-of-type {\n",
       "        vertical-align: middle;\n",
       "    }\n",
       "\n",
       "    .dataframe tbody tr th {\n",
       "        vertical-align: top;\n",
       "    }\n",
       "\n",
       "    .dataframe thead th {\n",
       "        text-align: right;\n",
       "    }\n",
       "</style>\n",
       "<table border=\"1\" class=\"dataframe\">\n",
       "  <thead>\n",
       "    <tr style=\"text-align: right;\">\n",
       "      <th></th>\n",
       "      <th>Quantity</th>\n",
       "      <th>UnitPrice</th>\n",
       "      <th>CustomerID</th>\n",
       "    </tr>\n",
       "  </thead>\n",
       "  <tbody>\n",
       "    <tr>\n",
       "      <th>count</th>\n",
       "      <td>541909.000000</td>\n",
       "      <td>541909.000000</td>\n",
       "      <td>406829.000000</td>\n",
       "    </tr>\n",
       "    <tr>\n",
       "      <th>mean</th>\n",
       "      <td>9.552250</td>\n",
       "      <td>4.611114</td>\n",
       "      <td>15287.690570</td>\n",
       "    </tr>\n",
       "    <tr>\n",
       "      <th>std</th>\n",
       "      <td>218.081158</td>\n",
       "      <td>96.759853</td>\n",
       "      <td>1713.600303</td>\n",
       "    </tr>\n",
       "    <tr>\n",
       "      <th>min</th>\n",
       "      <td>-80995.000000</td>\n",
       "      <td>-11062.060000</td>\n",
       "      <td>12346.000000</td>\n",
       "    </tr>\n",
       "    <tr>\n",
       "      <th>25%</th>\n",
       "      <td>1.000000</td>\n",
       "      <td>1.250000</td>\n",
       "      <td>13953.000000</td>\n",
       "    </tr>\n",
       "    <tr>\n",
       "      <th>50%</th>\n",
       "      <td>3.000000</td>\n",
       "      <td>2.080000</td>\n",
       "      <td>15152.000000</td>\n",
       "    </tr>\n",
       "    <tr>\n",
       "      <th>75%</th>\n",
       "      <td>10.000000</td>\n",
       "      <td>4.130000</td>\n",
       "      <td>16791.000000</td>\n",
       "    </tr>\n",
       "    <tr>\n",
       "      <th>max</th>\n",
       "      <td>80995.000000</td>\n",
       "      <td>38970.000000</td>\n",
       "      <td>18287.000000</td>\n",
       "    </tr>\n",
       "  </tbody>\n",
       "</table>\n",
       "</div>"
      ],
      "text/plain": [
       "            Quantity      UnitPrice     CustomerID\n",
       "count  541909.000000  541909.000000  406829.000000\n",
       "mean        9.552250       4.611114   15287.690570\n",
       "std       218.081158      96.759853    1713.600303\n",
       "min    -80995.000000  -11062.060000   12346.000000\n",
       "25%         1.000000       1.250000   13953.000000\n",
       "50%         3.000000       2.080000   15152.000000\n",
       "75%        10.000000       4.130000   16791.000000\n",
       "max     80995.000000   38970.000000   18287.000000"
      ]
     },
     "execution_count": 6,
     "metadata": {},
     "output_type": "execute_result"
    }
   ],
   "source": [
    "# Summary Statistic for numerical variable\n",
    "df.describe()"
   ]
  },
  {
   "cell_type": "code",
   "execution_count": 7,
   "id": "5df66deb",
   "metadata": {
    "execution": {
     "iopub.execute_input": "2025-09-18T22:11:08.451308Z",
     "iopub.status.busy": "2025-09-18T22:11:08.450935Z",
     "iopub.status.idle": "2025-09-18T22:11:08.835778Z",
     "shell.execute_reply": "2025-09-18T22:11:08.834812Z"
    },
    "papermill": {
     "duration": 0.397288,
     "end_time": "2025-09-18T22:11:08.837461",
     "exception": false,
     "start_time": "2025-09-18T22:11:08.440173",
     "status": "completed"
    },
    "tags": []
   },
   "outputs": [
    {
     "data": {
      "text/html": [
       "<div>\n",
       "<style scoped>\n",
       "    .dataframe tbody tr th:only-of-type {\n",
       "        vertical-align: middle;\n",
       "    }\n",
       "\n",
       "    .dataframe tbody tr th {\n",
       "        vertical-align: top;\n",
       "    }\n",
       "\n",
       "    .dataframe thead th {\n",
       "        text-align: right;\n",
       "    }\n",
       "</style>\n",
       "<table border=\"1\" class=\"dataframe\">\n",
       "  <thead>\n",
       "    <tr style=\"text-align: right;\">\n",
       "      <th></th>\n",
       "      <th>InvoiceNo</th>\n",
       "      <th>StockCode</th>\n",
       "      <th>Description</th>\n",
       "      <th>InvoiceDate</th>\n",
       "      <th>Country</th>\n",
       "    </tr>\n",
       "  </thead>\n",
       "  <tbody>\n",
       "    <tr>\n",
       "      <th>count</th>\n",
       "      <td>541909</td>\n",
       "      <td>541909</td>\n",
       "      <td>540455</td>\n",
       "      <td>541909</td>\n",
       "      <td>541909</td>\n",
       "    </tr>\n",
       "    <tr>\n",
       "      <th>unique</th>\n",
       "      <td>25900</td>\n",
       "      <td>4070</td>\n",
       "      <td>4223</td>\n",
       "      <td>23260</td>\n",
       "      <td>38</td>\n",
       "    </tr>\n",
       "    <tr>\n",
       "      <th>top</th>\n",
       "      <td>573585</td>\n",
       "      <td>85123A</td>\n",
       "      <td>WHITE HANGING HEART T-LIGHT HOLDER</td>\n",
       "      <td>10/31/2011 14:41</td>\n",
       "      <td>United Kingdom</td>\n",
       "    </tr>\n",
       "    <tr>\n",
       "      <th>freq</th>\n",
       "      <td>1114</td>\n",
       "      <td>2313</td>\n",
       "      <td>2369</td>\n",
       "      <td>1114</td>\n",
       "      <td>495478</td>\n",
       "    </tr>\n",
       "  </tbody>\n",
       "</table>\n",
       "</div>"
      ],
      "text/plain": [
       "       InvoiceNo StockCode                         Description  \\\n",
       "count     541909    541909                              540455   \n",
       "unique     25900      4070                                4223   \n",
       "top       573585    85123A  WHITE HANGING HEART T-LIGHT HOLDER   \n",
       "freq        1114      2313                                2369   \n",
       "\n",
       "             InvoiceDate         Country  \n",
       "count             541909          541909  \n",
       "unique             23260              38  \n",
       "top     10/31/2011 14:41  United Kingdom  \n",
       "freq                1114          495478  "
      ]
     },
     "execution_count": 7,
     "metadata": {},
     "output_type": "execute_result"
    }
   ],
   "source": [
    "# Summary statistics for categorical variable\n",
    "df.describe(include='object')"
   ]
  },
  {
   "cell_type": "markdown",
   "id": "6e237a62",
   "metadata": {
    "papermill": {
     "duration": 0.010017,
     "end_time": "2025-09-18T22:11:08.857787",
     "exception": false,
     "start_time": "2025-09-18T22:11:08.847770",
     "status": "completed"
    },
    "tags": []
   },
   "source": [
    "#### Observations !!!\n",
    "**Quantity:** \n",
    "Mean: 9.55\n",
    "Range: -80995 to 80995. Negative shows the return and cancelled items.\n",
    "SD: 218.08. A high standard deviation indicates outliers or a large spread of data points.\n",
    "\n",
    "Existence of outlier confirmed by difference in 75th percentile value and max value.\n",
    "\n",
    "**UnitPrice:**\n",
    "Mean: 4.61\n",
    "Range: -11062.06 to 38970. wide spread in prices and error because of negative value.\n",
    "SD: 96.7 .  A high standard deviation indicates outliers or a large spread of data points.\n",
    "existence of outlier confirmed with difference in 75th percentile and maximum value.\n",
    "\n",
    "**CustomerID:**\n",
    "Count: 406829 values. Therefore nearly 25% of missing values.\n",
    "\n",
    "**Invoice  Number**\n",
    "25900 unique values means 25900 transactions.\n",
    "1114 frequency means 1114 items were there in a transaction.\n",
    "\n",
    "**StokeCode**\n",
    "4070 unique values, means 4070 different products.\n",
    "Most popular item 85123A, occurs in transaction for 2313 times.\n",
    "\n",
    "**Description**\n",
    "Count: 540455 values. Means 1454 missing values.\n",
    "4223 unique descriptions.\n",
    ">Note!: 4223 unique descriptions when there are 4070 unique products. (Need to look into that...)\n",
    "\n",
    "Most Popular Item: White Hanging Heart T-Light Holder. occurred 2369 times in transactions.\n",
    "\n",
    "**Country**\n",
    "Most Frequent transactions were done between UK among 38 countries, with a frequency of 495478."
   ]
  },
  {
   "cell_type": "code",
   "execution_count": 8,
   "id": "6069db09",
   "metadata": {
    "execution": {
     "iopub.execute_input": "2025-09-18T22:11:08.879420Z",
     "iopub.status.busy": "2025-09-18T22:11:08.879085Z",
     "iopub.status.idle": "2025-09-18T22:11:09.024696Z",
     "shell.execute_reply": "2025-09-18T22:11:09.023654Z"
    },
    "papermill": {
     "duration": 0.158569,
     "end_time": "2025-09-18T22:11:09.026483",
     "exception": false,
     "start_time": "2025-09-18T22:11:08.867914",
     "status": "completed"
    },
    "tags": []
   },
   "outputs": [
    {
     "name": "stdout",
     "output_type": "stream",
     "text": [
      "InvoiceNo           0\n",
      "StockCode           0\n",
      "Description      1454\n",
      "Quantity            0\n",
      "InvoiceDate         0\n",
      "UnitPrice           0\n",
      "CustomerID     135080\n",
      "Country             0\n",
      "dtype: int64\n",
      "<class 'pandas.core.series.Series'>\n",
      "(8,)\n",
      "8\n",
      "Description     0.268311\n",
      "CustomerID     24.926694\n",
      "dtype: float64\n",
      "(2,)\n"
     ]
    }
   ],
   "source": [
    "missing_values = df.isna().sum()\n",
    "print(missing_values)\n",
    "print(type(missing_values))\n",
    "print(missing_values.shape)\n",
    "print(missing_values.size)\n",
    "\n",
    "missing_percentage = (missing_values[missing_values>0]/df.shape[0]) * 100\n",
    "print(missing_percentage)\n",
    "print(missing_percentage.shape)"
   ]
  },
  {
   "cell_type": "code",
   "execution_count": 9,
   "id": "d681dbc2",
   "metadata": {
    "execution": {
     "iopub.execute_input": "2025-09-18T22:11:09.115408Z",
     "iopub.status.busy": "2025-09-18T22:11:09.115042Z",
     "iopub.status.idle": "2025-09-18T22:11:09.156769Z",
     "shell.execute_reply": "2025-09-18T22:11:09.155501Z"
    },
    "papermill": {
     "duration": 0.054834,
     "end_time": "2025-09-18T22:11:09.158600",
     "exception": false,
     "start_time": "2025-09-18T22:11:09.103766",
     "status": "completed"
    },
    "tags": []
   },
   "outputs": [
    {
     "name": "stdout",
     "output_type": "stream",
     "text": [
      "4372\n",
      "       InvoiceNo StockCode                      Description  Quantity  \\\n",
      "622       536414     22139                              NaN        56   \n",
      "1443      536544     21773  DECORATIVE ROSE BATHROOM BOTTLE         1   \n",
      "1444      536544     21774  DECORATIVE CATS BATHROOM BOTTLE         2   \n",
      "1445      536544     21786               POLKADOT RAIN HAT          4   \n",
      "1446      536544     21787            RAIN PONCHO RETROSPOT         2   \n",
      "...          ...       ...                              ...       ...   \n",
      "541536    581498    85099B          JUMBO BAG RED RETROSPOT         5   \n",
      "541537    581498    85099C   JUMBO  BAG BAROQUE BLACK WHITE         4   \n",
      "541538    581498     85150    LADIES & GENTLEMEN METAL SIGN         1   \n",
      "541539    581498     85174                S/4 CACTI CANDLES         1   \n",
      "541540    581498       DOT                   DOTCOM POSTAGE         1   \n",
      "\n",
      "            InvoiceDate  UnitPrice  CustomerID         Country  \n",
      "622     12/1/2010 11:52       0.00         NaN  United Kingdom  \n",
      "1443    12/1/2010 14:32       2.51         NaN  United Kingdom  \n",
      "1444    12/1/2010 14:32       2.51         NaN  United Kingdom  \n",
      "1445    12/1/2010 14:32       0.85         NaN  United Kingdom  \n",
      "1446    12/1/2010 14:32       1.66         NaN  United Kingdom  \n",
      "...                 ...        ...         ...             ...  \n",
      "541536  12/9/2011 10:26       4.13         NaN  United Kingdom  \n",
      "541537  12/9/2011 10:26       4.13         NaN  United Kingdom  \n",
      "541538  12/9/2011 10:26       4.96         NaN  United Kingdom  \n",
      "541539  12/9/2011 10:26      10.79         NaN  United Kingdom  \n",
      "541540  12/9/2011 10:26    1714.17         NaN  United Kingdom  \n",
      "\n",
      "[135080 rows x 8 columns]\n"
     ]
    }
   ],
   "source": [
    "print(df['CustomerID'].nunique())\n",
    "len(df['CustomerID'].unique())\n",
    "print(df[df['CustomerID'].isna()])"
   ]
  },
  {
   "cell_type": "markdown",
   "id": "f5278358",
   "metadata": {
    "papermill": {
     "duration": 0.010108,
     "end_time": "2025-09-18T22:11:09.179352",
     "exception": false,
     "start_time": "2025-09-18T22:11:09.169244",
     "status": "completed"
    },
    "tags": []
   },
   "source": [
    "#### Let's try filling missing values\n",
    "Since we know that StockCode is unique and has a unique description for each item, we can map missing values with the help of StockCode. \n",
    "And CustomerID, we know InvoiceNo is unique, we can try to map CustomerID in a similar way.\n"
   ]
  },
  {
   "cell_type": "code",
   "execution_count": 10,
   "id": "f6c9166d",
   "metadata": {
    "execution": {
     "iopub.execute_input": "2025-09-18T22:11:09.203418Z",
     "iopub.status.busy": "2025-09-18T22:11:09.203121Z",
     "iopub.status.idle": "2025-09-18T22:11:18.045157Z",
     "shell.execute_reply": "2025-09-18T22:11:18.044046Z"
    },
    "papermill": {
     "duration": 8.857002,
     "end_time": "2025-09-18T22:11:18.047019",
     "exception": false,
     "start_time": "2025-09-18T22:11:09.190017",
     "status": "completed"
    },
    "tags": []
   },
   "outputs": [
    {
     "name": "stdout",
     "output_type": "stream",
     "text": [
      "InvoiceNo           0\n",
      "StockCode           0\n",
      "Description       112\n",
      "Quantity            0\n",
      "InvoiceDate         0\n",
      "UnitPrice           0\n",
      "CustomerID     135080\n",
      "Country             0\n",
      "dtype: int64\n",
      "       InvoiceNo StockCode                         Description  \\\n",
      "count     541909    541909                              541797   \n",
      "unique     25900      4070                                4223   \n",
      "top       573585    85123A  WHITE HANGING HEART T-LIGHT HOLDER   \n",
      "freq        1114      2313                                2369   \n",
      "\n",
      "             InvoiceDate         Country  \n",
      "count             541909          541909  \n",
      "unique             23260              38  \n",
      "top     10/31/2011 14:41  United Kingdom  \n",
      "freq                1114          495478  \n"
     ]
    }
   ],
   "source": [
    "df_new = df.copy()\n",
    "df_new['Description'] = df.groupby('StockCode')['Description'].transform(lambda x: x.fillna(method='ffill').fillna(method='bfill'))\n",
    "df_new['CustomerID'] = df.groupby('InvoiceNo')['CustomerID'].transform(lambda x: x.fillna(method='ffill').fillna(method='bfill'))\n",
    "\n",
    "print(df_new.isna().sum())\n",
    "print(df_new.describe(include = 'object'))"
   ]
  },
  {
   "cell_type": "markdown",
   "id": "fadc5314",
   "metadata": {
    "papermill": {
     "duration": 0.010972,
     "end_time": "2025-09-18T22:11:18.068566",
     "exception": false,
     "start_time": "2025-09-18T22:11:18.057594",
     "status": "completed"
    },
    "tags": []
   },
   "source": [
    "#### Observation!!!\n",
    "After filling in the missing values we observed there were no change in CUstomerID missing values. that means the missing CustomerId cannot be mapped from InvoiceNo.\n",
    "The best way to deal with it is to remove the rows with missing values entirely, otherwise it will cause hinderance with our recommendation system."
   ]
  },
  {
   "cell_type": "code",
   "execution_count": 11,
   "id": "7b913608",
   "metadata": {
    "execution": {
     "iopub.execute_input": "2025-09-18T22:11:18.090859Z",
     "iopub.status.busy": "2025-09-18T22:11:18.090523Z",
     "iopub.status.idle": "2025-09-18T22:11:18.390569Z",
     "shell.execute_reply": "2025-09-18T22:11:18.389099Z"
    },
    "papermill": {
     "duration": 0.313419,
     "end_time": "2025-09-18T22:11:18.392367",
     "exception": false,
     "start_time": "2025-09-18T22:11:18.078948",
     "status": "completed"
    },
    "tags": []
   },
   "outputs": [
    {
     "name": "stdout",
     "output_type": "stream",
     "text": [
      "InvoiceNo      0\n",
      "StockCode      0\n",
      "Description    0\n",
      "Quantity       0\n",
      "InvoiceDate    0\n",
      "UnitPrice      0\n",
      "CustomerID     0\n",
      "Country        0\n",
      "dtype: int64\n",
      "<class 'pandas.core.frame.DataFrame'>\n",
      "Index: 406829 entries, 0 to 541908\n",
      "Data columns (total 8 columns):\n",
      " #   Column       Non-Null Count   Dtype  \n",
      "---  ------       --------------   -----  \n",
      " 0   InvoiceNo    406829 non-null  object \n",
      " 1   StockCode    406829 non-null  object \n",
      " 2   Description  406829 non-null  object \n",
      " 3   Quantity     406829 non-null  int64  \n",
      " 4   InvoiceDate  406829 non-null  object \n",
      " 5   UnitPrice    406829 non-null  float64\n",
      " 6   CustomerID   406829 non-null  float64\n",
      " 7   Country      406829 non-null  object \n",
      "dtypes: float64(2), int64(1), object(5)\n",
      "memory usage: 27.9+ MB\n"
     ]
    }
   ],
   "source": [
    "df_new = df.dropna(subset = ['CustomerID', 'Description'])\n",
    "print(df_new.isna().sum())\n",
    "df_new.info()"
   ]
  },
  {
   "cell_type": "markdown",
   "id": "0c51d1de",
   "metadata": {
    "papermill": {
     "duration": 0.010207,
     "end_time": "2025-09-18T22:11:18.415380",
     "exception": false,
     "start_time": "2025-09-18T22:11:18.405173",
     "status": "completed"
    },
    "tags": []
   },
   "source": [
    "#### Now checking if there are any duplicates\n",
    "If there are entries with same values across all columns, that means they is error in recoding. There we will remove duplicates."
   ]
  },
  {
   "cell_type": "code",
   "execution_count": 12,
   "id": "2fbf61e7",
   "metadata": {
    "execution": {
     "iopub.execute_input": "2025-09-18T22:11:18.437767Z",
     "iopub.status.busy": "2025-09-18T22:11:18.437398Z",
     "iopub.status.idle": "2025-09-18T22:11:18.873048Z",
     "shell.execute_reply": "2025-09-18T22:11:18.871949Z"
    },
    "papermill": {
     "duration": 0.448894,
     "end_time": "2025-09-18T22:11:18.874799",
     "exception": false,
     "start_time": "2025-09-18T22:11:18.425905",
     "status": "completed"
    },
    "tags": []
   },
   "outputs": [
    {
     "name": "stdout",
     "output_type": "stream",
     "text": [
      "5225\n"
     ]
    }
   ],
   "source": [
    "print(df_new.duplicated().sum())\n",
    "df_new.drop_duplicates(inplace = True)\n"
   ]
  },
  {
   "cell_type": "markdown",
   "id": "9b92ee81",
   "metadata": {
    "papermill": {
     "duration": 0.010303,
     "end_time": "2025-09-18T22:11:18.895900",
     "exception": false,
     "start_time": "2025-09-18T22:11:18.885597",
     "status": "completed"
    },
    "tags": []
   },
   "source": [
    "#### Handling negative values\n",
    "We remember that quantity and UnitPrice had negative numbers in df.describe(), which represents return or cancelled transactions.\n",
    "Therefore, let's handle negative values to understand our data in depth.\n",
    "\n",
    "We will create a new column with transactions completed or cancelled status."
   ]
  },
  {
   "cell_type": "code",
   "execution_count": 13,
   "id": "3197f5c7",
   "metadata": {
    "execution": {
     "iopub.execute_input": "2025-09-18T22:11:18.918381Z",
     "iopub.status.busy": "2025-09-18T22:11:18.918009Z",
     "iopub.status.idle": "2025-09-18T22:11:18.932194Z",
     "shell.execute_reply": "2025-09-18T22:11:18.931067Z"
    },
    "papermill": {
     "duration": 0.027416,
     "end_time": "2025-09-18T22:11:18.933799",
     "exception": false,
     "start_time": "2025-09-18T22:11:18.906383",
     "status": "completed"
    },
    "tags": []
   },
   "outputs": [
    {
     "data": {
      "text/html": [
       "<div>\n",
       "<style scoped>\n",
       "    .dataframe tbody tr th:only-of-type {\n",
       "        vertical-align: middle;\n",
       "    }\n",
       "\n",
       "    .dataframe tbody tr th {\n",
       "        vertical-align: top;\n",
       "    }\n",
       "\n",
       "    .dataframe thead th {\n",
       "        text-align: right;\n",
       "    }\n",
       "</style>\n",
       "<table border=\"1\" class=\"dataframe\">\n",
       "  <thead>\n",
       "    <tr style=\"text-align: right;\">\n",
       "      <th></th>\n",
       "      <th>InvoiceNo</th>\n",
       "      <th>StockCode</th>\n",
       "      <th>Description</th>\n",
       "      <th>Quantity</th>\n",
       "      <th>InvoiceDate</th>\n",
       "      <th>UnitPrice</th>\n",
       "      <th>CustomerID</th>\n",
       "      <th>Country</th>\n",
       "    </tr>\n",
       "  </thead>\n",
       "  <tbody>\n",
       "    <tr>\n",
       "      <th>0</th>\n",
       "      <td>536365</td>\n",
       "      <td>85123A</td>\n",
       "      <td>WHITE HANGING HEART T-LIGHT HOLDER</td>\n",
       "      <td>6</td>\n",
       "      <td>12/1/2010 8:26</td>\n",
       "      <td>2.55</td>\n",
       "      <td>17850.0</td>\n",
       "      <td>United Kingdom</td>\n",
       "    </tr>\n",
       "    <tr>\n",
       "      <th>1</th>\n",
       "      <td>536365</td>\n",
       "      <td>71053</td>\n",
       "      <td>WHITE METAL LANTERN</td>\n",
       "      <td>6</td>\n",
       "      <td>12/1/2010 8:26</td>\n",
       "      <td>3.39</td>\n",
       "      <td>17850.0</td>\n",
       "      <td>United Kingdom</td>\n",
       "    </tr>\n",
       "    <tr>\n",
       "      <th>2</th>\n",
       "      <td>536365</td>\n",
       "      <td>84406B</td>\n",
       "      <td>CREAM CUPID HEARTS COAT HANGER</td>\n",
       "      <td>8</td>\n",
       "      <td>12/1/2010 8:26</td>\n",
       "      <td>2.75</td>\n",
       "      <td>17850.0</td>\n",
       "      <td>United Kingdom</td>\n",
       "    </tr>\n",
       "    <tr>\n",
       "      <th>3</th>\n",
       "      <td>536365</td>\n",
       "      <td>84029G</td>\n",
       "      <td>KNITTED UNION FLAG HOT WATER BOTTLE</td>\n",
       "      <td>6</td>\n",
       "      <td>12/1/2010 8:26</td>\n",
       "      <td>3.39</td>\n",
       "      <td>17850.0</td>\n",
       "      <td>United Kingdom</td>\n",
       "    </tr>\n",
       "    <tr>\n",
       "      <th>4</th>\n",
       "      <td>536365</td>\n",
       "      <td>84029E</td>\n",
       "      <td>RED WOOLLY HOTTIE WHITE HEART.</td>\n",
       "      <td>6</td>\n",
       "      <td>12/1/2010 8:26</td>\n",
       "      <td>3.39</td>\n",
       "      <td>17850.0</td>\n",
       "      <td>United Kingdom</td>\n",
       "    </tr>\n",
       "  </tbody>\n",
       "</table>\n",
       "</div>"
      ],
      "text/plain": [
       "  InvoiceNo StockCode                          Description  Quantity  \\\n",
       "0    536365    85123A   WHITE HANGING HEART T-LIGHT HOLDER         6   \n",
       "1    536365     71053                  WHITE METAL LANTERN         6   \n",
       "2    536365    84406B       CREAM CUPID HEARTS COAT HANGER         8   \n",
       "3    536365    84029G  KNITTED UNION FLAG HOT WATER BOTTLE         6   \n",
       "4    536365    84029E       RED WOOLLY HOTTIE WHITE HEART.         6   \n",
       "\n",
       "      InvoiceDate  UnitPrice  CustomerID         Country  \n",
       "0  12/1/2010 8:26       2.55     17850.0  United Kingdom  \n",
       "1  12/1/2010 8:26       3.39     17850.0  United Kingdom  \n",
       "2  12/1/2010 8:26       2.75     17850.0  United Kingdom  \n",
       "3  12/1/2010 8:26       3.39     17850.0  United Kingdom  \n",
       "4  12/1/2010 8:26       3.39     17850.0  United Kingdom  "
      ]
     },
     "execution_count": 13,
     "metadata": {},
     "output_type": "execute_result"
    }
   ],
   "source": [
    "df_new.head()"
   ]
  },
  {
   "cell_type": "code",
   "execution_count": 14,
   "id": "d64de9c6",
   "metadata": {
    "execution": {
     "iopub.execute_input": "2025-09-18T22:11:18.960604Z",
     "iopub.status.busy": "2025-09-18T22:11:18.959839Z",
     "iopub.status.idle": "2025-09-18T22:11:19.167446Z",
     "shell.execute_reply": "2025-09-18T22:11:19.166220Z"
    },
    "papermill": {
     "duration": 0.222791,
     "end_time": "2025-09-18T22:11:19.169186",
     "exception": false,
     "start_time": "2025-09-18T22:11:18.946395",
     "status": "completed"
    },
    "tags": []
   },
   "outputs": [
    {
     "data": {
      "text/html": [
       "<div>\n",
       "<style scoped>\n",
       "    .dataframe tbody tr th:only-of-type {\n",
       "        vertical-align: middle;\n",
       "    }\n",
       "\n",
       "    .dataframe tbody tr th {\n",
       "        vertical-align: top;\n",
       "    }\n",
       "\n",
       "    .dataframe thead th {\n",
       "        text-align: right;\n",
       "    }\n",
       "</style>\n",
       "<table border=\"1\" class=\"dataframe\">\n",
       "  <thead>\n",
       "    <tr style=\"text-align: right;\">\n",
       "      <th></th>\n",
       "      <th>Quantity</th>\n",
       "      <th>UnitPrice</th>\n",
       "      <th>CustomerID</th>\n",
       "    </tr>\n",
       "  </thead>\n",
       "  <tbody>\n",
       "    <tr>\n",
       "      <th>count</th>\n",
       "      <td>401604.000000</td>\n",
       "      <td>401604.000000</td>\n",
       "      <td>401604.000000</td>\n",
       "    </tr>\n",
       "    <tr>\n",
       "      <th>mean</th>\n",
       "      <td>12.183273</td>\n",
       "      <td>3.474064</td>\n",
       "      <td>15281.160818</td>\n",
       "    </tr>\n",
       "    <tr>\n",
       "      <th>std</th>\n",
       "      <td>250.283037</td>\n",
       "      <td>69.764035</td>\n",
       "      <td>1714.006089</td>\n",
       "    </tr>\n",
       "    <tr>\n",
       "      <th>min</th>\n",
       "      <td>-80995.000000</td>\n",
       "      <td>0.000000</td>\n",
       "      <td>12346.000000</td>\n",
       "    </tr>\n",
       "    <tr>\n",
       "      <th>25%</th>\n",
       "      <td>2.000000</td>\n",
       "      <td>1.250000</td>\n",
       "      <td>13939.000000</td>\n",
       "    </tr>\n",
       "    <tr>\n",
       "      <th>50%</th>\n",
       "      <td>5.000000</td>\n",
       "      <td>1.950000</td>\n",
       "      <td>15145.000000</td>\n",
       "    </tr>\n",
       "    <tr>\n",
       "      <th>75%</th>\n",
       "      <td>12.000000</td>\n",
       "      <td>3.750000</td>\n",
       "      <td>16784.000000</td>\n",
       "    </tr>\n",
       "    <tr>\n",
       "      <th>max</th>\n",
       "      <td>80995.000000</td>\n",
       "      <td>38970.000000</td>\n",
       "      <td>18287.000000</td>\n",
       "    </tr>\n",
       "  </tbody>\n",
       "</table>\n",
       "</div>"
      ],
      "text/plain": [
       "            Quantity      UnitPrice     CustomerID\n",
       "count  401604.000000  401604.000000  401604.000000\n",
       "mean       12.183273       3.474064   15281.160818\n",
       "std       250.283037      69.764035    1714.006089\n",
       "min    -80995.000000       0.000000   12346.000000\n",
       "25%         2.000000       1.250000   13939.000000\n",
       "50%         5.000000       1.950000   15145.000000\n",
       "75%        12.000000       3.750000   16784.000000\n",
       "max     80995.000000   38970.000000   18287.000000"
      ]
     },
     "execution_count": 14,
     "metadata": {},
     "output_type": "execute_result"
    }
   ],
   "source": [
    "df_new['Status'] = np.where(df_new['InvoiceNo'].astype(str).str.startswith('C'), \"Cancelled\", \"Completed\")\n",
    "df_new.describe()"
   ]
  },
  {
   "cell_type": "markdown",
   "id": "5ca6365a",
   "metadata": {
    "papermill": {
     "duration": 0.010913,
     "end_time": "2025-09-18T22:11:19.191482",
     "exception": false,
     "start_time": "2025-09-18T22:11:19.180569",
     "status": "completed"
    },
    "tags": []
   },
   "source": [
    "#### Stat Analysis for all the cancelled transactions"
   ]
  },
  {
   "cell_type": "code",
   "execution_count": 15,
   "id": "504144f6",
   "metadata": {
    "execution": {
     "iopub.execute_input": "2025-09-18T22:11:19.215047Z",
     "iopub.status.busy": "2025-09-18T22:11:19.214697Z",
     "iopub.status.idle": "2025-09-18T22:11:19.270163Z",
     "shell.execute_reply": "2025-09-18T22:11:19.269041Z"
    },
    "papermill": {
     "duration": 0.069306,
     "end_time": "2025-09-18T22:11:19.272017",
     "exception": false,
     "start_time": "2025-09-18T22:11:19.202711",
     "status": "completed"
    },
    "tags": []
   },
   "outputs": [
    {
     "data": {
      "text/html": [
       "<div>\n",
       "<style scoped>\n",
       "    .dataframe tbody tr th:only-of-type {\n",
       "        vertical-align: middle;\n",
       "    }\n",
       "\n",
       "    .dataframe tbody tr th {\n",
       "        vertical-align: top;\n",
       "    }\n",
       "\n",
       "    .dataframe thead th {\n",
       "        text-align: right;\n",
       "    }\n",
       "</style>\n",
       "<table border=\"1\" class=\"dataframe\">\n",
       "  <thead>\n",
       "    <tr style=\"text-align: right;\">\n",
       "      <th></th>\n",
       "      <th>Quantity</th>\n",
       "      <th>UnitPrice</th>\n",
       "    </tr>\n",
       "  </thead>\n",
       "  <tbody>\n",
       "    <tr>\n",
       "      <th>count</th>\n",
       "      <td>8872.000000</td>\n",
       "      <td>8872.000000</td>\n",
       "    </tr>\n",
       "    <tr>\n",
       "      <th>mean</th>\n",
       "      <td>-30.774910</td>\n",
       "      <td>18.899512</td>\n",
       "    </tr>\n",
       "    <tr>\n",
       "      <th>std</th>\n",
       "      <td>1172.249902</td>\n",
       "      <td>445.190864</td>\n",
       "    </tr>\n",
       "    <tr>\n",
       "      <th>min</th>\n",
       "      <td>-80995.000000</td>\n",
       "      <td>0.010000</td>\n",
       "    </tr>\n",
       "    <tr>\n",
       "      <th>25%</th>\n",
       "      <td>-6.000000</td>\n",
       "      <td>1.450000</td>\n",
       "    </tr>\n",
       "    <tr>\n",
       "      <th>50%</th>\n",
       "      <td>-2.000000</td>\n",
       "      <td>2.950000</td>\n",
       "    </tr>\n",
       "    <tr>\n",
       "      <th>75%</th>\n",
       "      <td>-1.000000</td>\n",
       "      <td>4.950000</td>\n",
       "    </tr>\n",
       "    <tr>\n",
       "      <th>max</th>\n",
       "      <td>-1.000000</td>\n",
       "      <td>38970.000000</td>\n",
       "    </tr>\n",
       "  </tbody>\n",
       "</table>\n",
       "</div>"
      ],
      "text/plain": [
       "           Quantity     UnitPrice\n",
       "count   8872.000000   8872.000000\n",
       "mean     -30.774910     18.899512\n",
       "std     1172.249902    445.190864\n",
       "min   -80995.000000      0.010000\n",
       "25%       -6.000000      1.450000\n",
       "50%       -2.000000      2.950000\n",
       "75%       -1.000000      4.950000\n",
       "max       -1.000000  38970.000000"
      ]
     },
     "execution_count": 15,
     "metadata": {},
     "output_type": "execute_result"
    }
   ],
   "source": [
    "cancelled_transactions = df_new[df_new['Status'] == 'Cancelled']\n",
    "cancelled_transactions.describe().drop('CustomerID', axis=1)"
   ]
  },
  {
   "cell_type": "markdown",
   "id": "1a01a8ea",
   "metadata": {
    "papermill": {
     "duration": 0.01101,
     "end_time": "2025-09-18T22:11:19.294329",
     "exception": false,
     "start_time": "2025-09-18T22:11:19.283319",
     "status": "completed"
    },
    "tags": []
   },
   "source": [
    "#### How Does the cancelled Data looks?"
   ]
  },
  {
   "cell_type": "code",
   "execution_count": 16,
   "id": "19e3f61e",
   "metadata": {
    "execution": {
     "iopub.execute_input": "2025-09-18T22:11:19.318782Z",
     "iopub.status.busy": "2025-09-18T22:11:19.317803Z",
     "iopub.status.idle": "2025-09-18T22:11:19.366236Z",
     "shell.execute_reply": "2025-09-18T22:11:19.365351Z"
    },
    "papermill": {
     "duration": 0.062169,
     "end_time": "2025-09-18T22:11:19.367701",
     "exception": false,
     "start_time": "2025-09-18T22:11:19.305532",
     "status": "completed"
    },
    "tags": []
   },
   "outputs": [
    {
     "data": {
      "text/html": [
       "<div>\n",
       "<style scoped>\n",
       "    .dataframe tbody tr th:only-of-type {\n",
       "        vertical-align: middle;\n",
       "    }\n",
       "\n",
       "    .dataframe tbody tr th {\n",
       "        vertical-align: top;\n",
       "    }\n",
       "\n",
       "    .dataframe thead th {\n",
       "        text-align: right;\n",
       "    }\n",
       "</style>\n",
       "<table border=\"1\" class=\"dataframe\">\n",
       "  <thead>\n",
       "    <tr style=\"text-align: right;\">\n",
       "      <th></th>\n",
       "      <th>InvoiceNo</th>\n",
       "      <th>StockCode</th>\n",
       "      <th>Description</th>\n",
       "      <th>Quantity</th>\n",
       "      <th>InvoiceDate</th>\n",
       "      <th>UnitPrice</th>\n",
       "      <th>CustomerID</th>\n",
       "      <th>Country</th>\n",
       "      <th>Status</th>\n",
       "    </tr>\n",
       "  </thead>\n",
       "  <tbody>\n",
       "    <tr>\n",
       "      <th>141</th>\n",
       "      <td>C536379</td>\n",
       "      <td>D</td>\n",
       "      <td>Discount</td>\n",
       "      <td>-1</td>\n",
       "      <td>12/1/2010 9:41</td>\n",
       "      <td>27.50</td>\n",
       "      <td>14527.0</td>\n",
       "      <td>United Kingdom</td>\n",
       "      <td>Cancelled</td>\n",
       "    </tr>\n",
       "    <tr>\n",
       "      <th>154</th>\n",
       "      <td>C536383</td>\n",
       "      <td>35004C</td>\n",
       "      <td>SET OF 3 COLOURED  FLYING DUCKS</td>\n",
       "      <td>-1</td>\n",
       "      <td>12/1/2010 9:49</td>\n",
       "      <td>4.65</td>\n",
       "      <td>15311.0</td>\n",
       "      <td>United Kingdom</td>\n",
       "      <td>Cancelled</td>\n",
       "    </tr>\n",
       "    <tr>\n",
       "      <th>235</th>\n",
       "      <td>C536391</td>\n",
       "      <td>22556</td>\n",
       "      <td>PLASTERS IN TIN CIRCUS PARADE</td>\n",
       "      <td>-12</td>\n",
       "      <td>12/1/2010 10:24</td>\n",
       "      <td>1.65</td>\n",
       "      <td>17548.0</td>\n",
       "      <td>United Kingdom</td>\n",
       "      <td>Cancelled</td>\n",
       "    </tr>\n",
       "    <tr>\n",
       "      <th>236</th>\n",
       "      <td>C536391</td>\n",
       "      <td>21984</td>\n",
       "      <td>PACK OF 12 PINK PAISLEY TISSUES</td>\n",
       "      <td>-24</td>\n",
       "      <td>12/1/2010 10:24</td>\n",
       "      <td>0.29</td>\n",
       "      <td>17548.0</td>\n",
       "      <td>United Kingdom</td>\n",
       "      <td>Cancelled</td>\n",
       "    </tr>\n",
       "    <tr>\n",
       "      <th>237</th>\n",
       "      <td>C536391</td>\n",
       "      <td>21983</td>\n",
       "      <td>PACK OF 12 BLUE PAISLEY TISSUES</td>\n",
       "      <td>-24</td>\n",
       "      <td>12/1/2010 10:24</td>\n",
       "      <td>0.29</td>\n",
       "      <td>17548.0</td>\n",
       "      <td>United Kingdom</td>\n",
       "      <td>Cancelled</td>\n",
       "    </tr>\n",
       "  </tbody>\n",
       "</table>\n",
       "</div>"
      ],
      "text/plain": [
       "    InvoiceNo StockCode                       Description  Quantity  \\\n",
       "141   C536379         D                          Discount        -1   \n",
       "154   C536383    35004C   SET OF 3 COLOURED  FLYING DUCKS        -1   \n",
       "235   C536391     22556    PLASTERS IN TIN CIRCUS PARADE        -12   \n",
       "236   C536391     21984  PACK OF 12 PINK PAISLEY TISSUES        -24   \n",
       "237   C536391     21983  PACK OF 12 BLUE PAISLEY TISSUES        -24   \n",
       "\n",
       "         InvoiceDate  UnitPrice  CustomerID         Country     Status  \n",
       "141   12/1/2010 9:41      27.50     14527.0  United Kingdom  Cancelled  \n",
       "154   12/1/2010 9:49       4.65     15311.0  United Kingdom  Cancelled  \n",
       "235  12/1/2010 10:24       1.65     17548.0  United Kingdom  Cancelled  \n",
       "236  12/1/2010 10:24       0.29     17548.0  United Kingdom  Cancelled  \n",
       "237  12/1/2010 10:24       0.29     17548.0  United Kingdom  Cancelled  "
      ]
     },
     "execution_count": 16,
     "metadata": {},
     "output_type": "execute_result"
    }
   ],
   "source": [
    "df_new[df_new.Status == 'Cancelled'].head()"
   ]
  },
  {
   "cell_type": "markdown",
   "id": "d5bfd192",
   "metadata": {
    "papermill": {
     "duration": 0.010862,
     "end_time": "2025-09-18T22:11:19.389914",
     "exception": false,
     "start_time": "2025-09-18T22:11:19.379052",
     "status": "completed"
    },
    "tags": []
   },
   "source": [
    "Lets calculate how the percentage of cancelled transactions are there?"
   ]
  },
  {
   "cell_type": "code",
   "execution_count": 17,
   "id": "80f66cc6",
   "metadata": {
    "execution": {
     "iopub.execute_input": "2025-09-18T22:11:19.414229Z",
     "iopub.status.busy": "2025-09-18T22:11:19.413888Z",
     "iopub.status.idle": "2025-09-18T22:11:19.457659Z",
     "shell.execute_reply": "2025-09-18T22:11:19.456751Z"
    },
    "papermill": {
     "duration": 0.05824,
     "end_time": "2025-09-18T22:11:19.459155",
     "exception": false,
     "start_time": "2025-09-18T22:11:19.400915",
     "status": "completed"
    },
    "tags": []
   },
   "outputs": [
    {
     "data": {
      "text/plain": [
       "2.209141343213713"
      ]
     },
     "execution_count": 17,
     "metadata": {},
     "output_type": "execute_result"
    }
   ],
   "source": [
    "df_new[df_new.Status == \"Cancelled\"].shape[0] / df_new.shape[0] *100"
   ]
  },
  {
   "cell_type": "markdown",
   "id": "b3004f33",
   "metadata": {
    "papermill": {
     "duration": 0.01206,
     "end_time": "2025-09-18T22:11:19.483551",
     "exception": false,
     "start_time": "2025-09-18T22:11:19.471491",
     "status": "completed"
    },
    "tags": []
   },
   "source": [
    "Since above we know there are 4070 unique StokeCodes, but we have made lot of changes to the data, so to be on the safe side lets check it again."
   ]
  },
  {
   "cell_type": "code",
   "execution_count": 18,
   "id": "d13ebf3d",
   "metadata": {
    "execution": {
     "iopub.execute_input": "2025-09-18T22:11:19.508471Z",
     "iopub.status.busy": "2025-09-18T22:11:19.508137Z",
     "iopub.status.idle": "2025-09-18T22:11:19.536800Z",
     "shell.execute_reply": "2025-09-18T22:11:19.535936Z"
    },
    "papermill": {
     "duration": 0.042686,
     "end_time": "2025-09-18T22:11:19.538469",
     "exception": false,
     "start_time": "2025-09-18T22:11:19.495783",
     "status": "completed"
    },
    "tags": []
   },
   "outputs": [
    {
     "data": {
      "text/plain": [
       "3684"
      ]
     },
     "execution_count": 18,
     "metadata": {},
     "output_type": "execute_result"
    }
   ],
   "source": [
    "df_new.StockCode.nunique()"
   ]
  },
  {
   "cell_type": "markdown",
   "id": "01b83df4",
   "metadata": {
    "papermill": {
     "duration": 0.011359,
     "end_time": "2025-09-18T22:11:19.561518",
     "exception": false,
     "start_time": "2025-09-18T22:11:19.550159",
     "status": "completed"
    },
    "tags": []
   },
   "source": [
    "So, now we have 3684 unique stock codes after cleaning our dataset. BUilding on this Lets visualise and analyse our to 10 most popular products."
   ]
  },
  {
   "cell_type": "code",
   "execution_count": 19,
   "id": "c3f6fdbc",
   "metadata": {
    "execution": {
     "iopub.execute_input": "2025-09-18T22:11:19.586054Z",
     "iopub.status.busy": "2025-09-18T22:11:19.585696Z",
     "iopub.status.idle": "2025-09-18T22:11:20.070571Z",
     "shell.execute_reply": "2025-09-18T22:11:20.069540Z"
    },
    "papermill": {
     "duration": 0.499119,
     "end_time": "2025-09-18T22:11:20.072404",
     "exception": false,
     "start_time": "2025-09-18T22:11:19.573285",
     "status": "completed"
    },
    "tags": []
   },
   "outputs": [
    {
     "data": {
      "text/plain": [
       "Text(0.5, 1.0, 'Top 10 popular StockCodes')"
      ]
     },
     "execution_count": 19,
     "metadata": {},
     "output_type": "execute_result"
    },
    {
     "data": {
      "image/png": "[encoded data removed]",
      "text/plain": [
       "<Figure size 1000x400 with 1 Axes>"
      ]
     },
     "metadata": {},
     "output_type": "display_data"
    }
   ],
   "source": [
    "stock_codes_counts = df_new[df_new.Status == \"Completed\"].StockCode.value_counts().sort_values(ascending = False)\n",
    "plt.figure(figsize=(10,4))\n",
    "sns.barplot(x = stock_codes_counts.head(10).index,\n",
    "            y = stock_codes_counts.head(10).values,\n",
    "            palette = \"Oranges_r\")\n",
    "plt.ylabel(\"Counts\")\n",
    "plt.xlabel(\"StockCode\")\n",
    "plt.title(\"Top 10 popular StockCodes\")"
   ]
  },
  {
   "cell_type": "markdown",
   "id": "d1e1ec39",
   "metadata": {
    "papermill": {
     "duration": 0.012352,
     "end_time": "2025-09-18T22:11:20.098430",
     "exception": false,
     "start_time": "2025-09-18T22:11:20.086078",
     "status": "completed"
    },
    "tags": []
   },
   "source": [
    "We observed that there is an anomaly \"POST\", which doesn't sound like a product stockCode. SO, we can conclude that there might be other anomalies. Since we understand StockCode has digits in it so we can seperate from non-digit stock codes. And stock code of a product strts with digits. so we can check first 3 character should be a digit."
   ]
  },
  {
   "cell_type": "code",
   "execution_count": 20,
   "id": "72b9e91b",
   "metadata": {
    "execution": {
     "iopub.execute_input": "2025-09-18T22:11:20.123868Z",
     "iopub.status.busy": "2025-09-18T22:11:20.123528Z",
     "iopub.status.idle": "2025-09-18T22:11:20.500871Z",
     "shell.execute_reply": "2025-09-18T22:11:20.500014Z"
    },
    "papermill": {
     "duration": 0.392125,
     "end_time": "2025-09-18T22:11:20.502602",
     "exception": false,
     "start_time": "2025-09-18T22:11:20.110477",
     "status": "completed"
    },
    "tags": []
   },
   "outputs": [
    {
     "name": "stdout",
     "output_type": "stream",
     "text": [
      "(401604, 9)\n"
     ]
    },
    {
     "data": {
      "text/html": [
       "<div>\n",
       "<style scoped>\n",
       "    .dataframe tbody tr th:only-of-type {\n",
       "        vertical-align: middle;\n",
       "    }\n",
       "\n",
       "    .dataframe tbody tr th {\n",
       "        vertical-align: top;\n",
       "    }\n",
       "\n",
       "    .dataframe thead th {\n",
       "        text-align: right;\n",
       "    }\n",
       "</style>\n",
       "<table border=\"1\" class=\"dataframe\">\n",
       "  <thead>\n",
       "    <tr style=\"text-align: right;\">\n",
       "      <th></th>\n",
       "      <th>InvoiceNo</th>\n",
       "      <th>StockCode</th>\n",
       "      <th>Description</th>\n",
       "      <th>Quantity</th>\n",
       "      <th>InvoiceDate</th>\n",
       "      <th>UnitPrice</th>\n",
       "      <th>CustomerID</th>\n",
       "      <th>Country</th>\n",
       "      <th>Status</th>\n",
       "      <th>Num_StockCode</th>\n",
       "    </tr>\n",
       "  </thead>\n",
       "  <tbody>\n",
       "    <tr>\n",
       "      <th>45</th>\n",
       "      <td>536370</td>\n",
       "      <td>POST</td>\n",
       "      <td>POSTAGE</td>\n",
       "      <td>3</td>\n",
       "      <td>12/1/2010 8:45</td>\n",
       "      <td>18.00</td>\n",
       "      <td>12583.0</td>\n",
       "      <td>France</td>\n",
       "      <td>Completed</td>\n",
       "      <td>False</td>\n",
       "    </tr>\n",
       "    <tr>\n",
       "      <th>141</th>\n",
       "      <td>C536379</td>\n",
       "      <td>D</td>\n",
       "      <td>Discount</td>\n",
       "      <td>-1</td>\n",
       "      <td>12/1/2010 9:41</td>\n",
       "      <td>27.50</td>\n",
       "      <td>14527.0</td>\n",
       "      <td>United Kingdom</td>\n",
       "      <td>Cancelled</td>\n",
       "      <td>False</td>\n",
       "    </tr>\n",
       "    <tr>\n",
       "      <th>386</th>\n",
       "      <td>536403</td>\n",
       "      <td>POST</td>\n",
       "      <td>POSTAGE</td>\n",
       "      <td>1</td>\n",
       "      <td>12/1/2010 11:27</td>\n",
       "      <td>15.00</td>\n",
       "      <td>12791.0</td>\n",
       "      <td>Netherlands</td>\n",
       "      <td>Completed</td>\n",
       "      <td>False</td>\n",
       "    </tr>\n",
       "    <tr>\n",
       "      <th>1123</th>\n",
       "      <td>536527</td>\n",
       "      <td>POST</td>\n",
       "      <td>POSTAGE</td>\n",
       "      <td>1</td>\n",
       "      <td>12/1/2010 13:04</td>\n",
       "      <td>18.00</td>\n",
       "      <td>12662.0</td>\n",
       "      <td>Germany</td>\n",
       "      <td>Completed</td>\n",
       "      <td>False</td>\n",
       "    </tr>\n",
       "    <tr>\n",
       "      <th>1423</th>\n",
       "      <td>536540</td>\n",
       "      <td>C2</td>\n",
       "      <td>CARRIAGE</td>\n",
       "      <td>1</td>\n",
       "      <td>12/1/2010 14:05</td>\n",
       "      <td>50.00</td>\n",
       "      <td>14911.0</td>\n",
       "      <td>EIRE</td>\n",
       "      <td>Completed</td>\n",
       "      <td>False</td>\n",
       "    </tr>\n",
       "    <tr>\n",
       "      <th>2239</th>\n",
       "      <td>536569</td>\n",
       "      <td>M</td>\n",
       "      <td>Manual</td>\n",
       "      <td>1</td>\n",
       "      <td>12/1/2010 15:35</td>\n",
       "      <td>1.25</td>\n",
       "      <td>16274.0</td>\n",
       "      <td>United Kingdom</td>\n",
       "      <td>Completed</td>\n",
       "      <td>False</td>\n",
       "    </tr>\n",
       "    <tr>\n",
       "      <th>2250</th>\n",
       "      <td>536569</td>\n",
       "      <td>M</td>\n",
       "      <td>Manual</td>\n",
       "      <td>1</td>\n",
       "      <td>12/1/2010 15:35</td>\n",
       "      <td>18.95</td>\n",
       "      <td>16274.0</td>\n",
       "      <td>United Kingdom</td>\n",
       "      <td>Completed</td>\n",
       "      <td>False</td>\n",
       "    </tr>\n",
       "    <tr>\n",
       "      <th>4406</th>\n",
       "      <td>536779</td>\n",
       "      <td>BANK CHARGES</td>\n",
       "      <td>Bank Charges</td>\n",
       "      <td>1</td>\n",
       "      <td>12/2/2010 15:08</td>\n",
       "      <td>15.00</td>\n",
       "      <td>15823.0</td>\n",
       "      <td>United Kingdom</td>\n",
       "      <td>Completed</td>\n",
       "      <td>False</td>\n",
       "    </tr>\n",
       "    <tr>\n",
       "      <th>5073</th>\n",
       "      <td>536840</td>\n",
       "      <td>POST</td>\n",
       "      <td>POSTAGE</td>\n",
       "      <td>1</td>\n",
       "      <td>12/2/2010 18:27</td>\n",
       "      <td>18.00</td>\n",
       "      <td>12738.0</td>\n",
       "      <td>Germany</td>\n",
       "      <td>Completed</td>\n",
       "      <td>False</td>\n",
       "    </tr>\n",
       "    <tr>\n",
       "      <th>5258</th>\n",
       "      <td>536852</td>\n",
       "      <td>POST</td>\n",
       "      <td>POSTAGE</td>\n",
       "      <td>1</td>\n",
       "      <td>12/3/2010 9:51</td>\n",
       "      <td>18.00</td>\n",
       "      <td>12686.0</td>\n",
       "      <td>France</td>\n",
       "      <td>Completed</td>\n",
       "      <td>False</td>\n",
       "    </tr>\n",
       "  </tbody>\n",
       "</table>\n",
       "</div>"
      ],
      "text/plain": [
       "     InvoiceNo     StockCode   Description  Quantity      InvoiceDate  \\\n",
       "45      536370          POST       POSTAGE         3   12/1/2010 8:45   \n",
       "141    C536379             D      Discount        -1   12/1/2010 9:41   \n",
       "386     536403          POST       POSTAGE         1  12/1/2010 11:27   \n",
       "1123    536527          POST       POSTAGE         1  12/1/2010 13:04   \n",
       "1423    536540            C2      CARRIAGE         1  12/1/2010 14:05   \n",
       "2239    536569             M        Manual         1  12/1/2010 15:35   \n",
       "2250    536569             M        Manual         1  12/1/2010 15:35   \n",
       "4406    536779  BANK CHARGES  Bank Charges         1  12/2/2010 15:08   \n",
       "5073    536840          POST       POSTAGE         1  12/2/2010 18:27   \n",
       "5258    536852          POST       POSTAGE         1   12/3/2010 9:51   \n",
       "\n",
       "      UnitPrice  CustomerID         Country     Status  Num_StockCode  \n",
       "45        18.00     12583.0          France  Completed          False  \n",
       "141       27.50     14527.0  United Kingdom  Cancelled          False  \n",
       "386       15.00     12791.0     Netherlands  Completed          False  \n",
       "1123      18.00     12662.0         Germany  Completed          False  \n",
       "1423      50.00     14911.0            EIRE  Completed          False  \n",
       "2239       1.25     16274.0  United Kingdom  Completed          False  \n",
       "2250      18.95     16274.0  United Kingdom  Completed          False  \n",
       "4406      15.00     15823.0  United Kingdom  Completed          False  \n",
       "5073      18.00     12738.0         Germany  Completed          False  \n",
       "5258      18.00     12686.0          France  Completed          False  "
      ]
     },
     "execution_count": 20,
     "metadata": {},
     "output_type": "execute_result"
    }
   ],
   "source": [
    "print(df_new.shape)\n",
    "df_new[\"StockCode\"].str[0:3].apply(lambda x : x.isdigit()).sum()\n",
    "df_new['Num_StockCode'] = df_new[\"StockCode\"].str[0:3].apply(lambda x : x.isdigit())\n",
    "df_new[df_new.Num_StockCode == False].head(10)"
   ]
  },
  {
   "cell_type": "code",
   "execution_count": 21,
   "id": "31e6dde2",
   "metadata": {
    "execution": {
     "iopub.execute_input": "2025-09-18T22:11:20.529435Z",
     "iopub.status.busy": "2025-09-18T22:11:20.529127Z",
     "iopub.status.idle": "2025-09-18T22:11:20.566429Z",
     "shell.execute_reply": "2025-09-18T22:11:20.565241Z"
    },
    "papermill": {
     "duration": 0.052341,
     "end_time": "2025-09-18T22:11:20.568079",
     "exception": false,
     "start_time": "2025-09-18T22:11:20.515738",
     "status": "completed"
    },
    "tags": []
   },
   "outputs": [
    {
     "name": "stdout",
     "output_type": "stream",
     "text": [
      "(399689, 10)\n"
     ]
    }
   ],
   "source": [
    "# Removing enteries with non-digit stock codes.\n",
    "df_new = df_new[df_new.Num_StockCode == True]\n",
    "df_new.head()\n",
    "print(df_new.shape)"
   ]
  },
  {
   "cell_type": "markdown",
   "id": "06910873",
   "metadata": {
    "papermill": {
     "duration": 0.012492,
     "end_time": "2025-09-18T22:11:20.593027",
     "exception": false,
     "start_time": "2025-09-18T22:11:20.580535",
     "status": "completed"
    },
    "tags": []
   },
   "source": [
    "Now lets move to Decription column, from above observation we have notice the description is mix of Capital letter and lower case letters. Lets look into it, and see whether there is ana nolmaly or not\n"
   ]
  },
  {
   "cell_type": "code",
   "execution_count": 22,
   "id": "a3e6e468",
   "metadata": {
    "execution": {
     "iopub.execute_input": "2025-09-18T22:11:20.618932Z",
     "iopub.status.busy": "2025-09-18T22:11:20.618614Z",
     "iopub.status.idle": "2025-09-18T22:11:20.660495Z",
     "shell.execute_reply": "2025-09-18T22:11:20.659682Z"
    },
    "papermill": {
     "duration": 0.056571,
     "end_time": "2025-09-18T22:11:20.662002",
     "exception": false,
     "start_time": "2025-09-18T22:11:20.605431",
     "status": "completed"
    },
    "tags": []
   },
   "outputs": [
    {
     "data": {
      "text/plain": [
       "Description\n",
       "WHITE HANGING HEART T-LIGHT HOLDER    2058\n",
       "REGENCY CAKESTAND 3 TIER              1894\n",
       "JUMBO BAG RED RETROSPOT               1659\n",
       "PARTY BUNTING                         1409\n",
       "ASSORTED COLOUR BIRD ORNAMENT         1405\n",
       "                                      ... \n",
       "FRYING PAN RED POLKADOT                  1\n",
       "PEG BAG APPLE DESIGN                     1\n",
       "PINK POLKADOT KIDS BAG                   1\n",
       "BLACK DIAMOND CLUSTER NECKLACE           1\n",
       "SET 12 COLOURING PENCILS DOILEY          1\n",
       "Name: count, Length: 3888, dtype: int64"
      ]
     },
     "execution_count": 22,
     "metadata": {},
     "output_type": "execute_result"
    }
   ],
   "source": [
    "df_new.Description.value_counts()"
   ]
  },
  {
   "cell_type": "markdown",
   "id": "1a32bdf9",
   "metadata": {
    "papermill": {
     "duration": 0.011936,
     "end_time": "2025-09-18T22:11:20.686526",
     "exception": false,
     "start_time": "2025-09-18T22:11:20.674590",
     "status": "completed"
    },
    "tags": []
   },
   "source": [
    "Looks, okay lets check for lowecase enteries\n"
   ]
  },
  {
   "cell_type": "code",
   "execution_count": 23,
   "id": "328dd682",
   "metadata": {
    "execution": {
     "iopub.execute_input": "2025-09-18T22:11:20.712290Z",
     "iopub.status.busy": "2025-09-18T22:11:20.711935Z",
     "iopub.status.idle": "2025-09-18T22:11:20.761580Z",
     "shell.execute_reply": "2025-09-18T22:11:20.760459Z"
    },
    "papermill": {
     "duration": 0.06451,
     "end_time": "2025-09-18T22:11:20.763360",
     "exception": false,
     "start_time": "2025-09-18T22:11:20.698850",
     "status": "completed"
    },
    "tags": []
   },
   "outputs": [
    {
     "name": "stdout",
     "output_type": "stream",
     "text": [
      "BAG 500g SWIRLY MARBLES\n",
      "POLYESTER FILLER PAD 45x45cm\n",
      "POLYESTER FILLER PAD 45x30cm\n",
      "POLYESTER FILLER PAD 40x40cm\n",
      "FRENCH BLUE METAL DOOR SIGN No\n",
      "BAG 250g SWIRLY MARBLES\n",
      "BAG 125g SWIRLY MARBLES\n",
      "3 TRADITIONAl BISCUIT CUTTERS  SET\n",
      "NUMBER TILE COTTAGE GARDEN No\n",
      "FOLK ART GREETING CARD,pack/12\n",
      "ESSENTIAL BALM 3.5g TIN IN ENVELOPE\n",
      "POLYESTER FILLER PAD 65CMx65CM\n",
      "NUMBER TILE VINTAGE FONT No \n",
      "POLYESTER FILLER PAD 30CMx30CM\n",
      "POLYESTER FILLER PAD 60x40cm\n",
      "FLOWERS HANDBAG blue and orange\n",
      "Next Day Carriage\n",
      "THE KING GIFT BAG 25x24x12cm\n",
      "High Resolution Image\n"
     ]
    }
   ],
   "source": [
    "lower_case_description = df_new['Description'].unique()\n",
    "lower_case_description = [desc for desc in lower_case_description if any(char.islower() for char in desc)]\n",
    "\n",
    "for x in lower_case_description:\n",
    "    print(x)"
   ]
  },
  {
   "cell_type": "markdown",
   "id": "e5b37487",
   "metadata": {
    "papermill": {
     "duration": 0.012368,
     "end_time": "2025-09-18T22:11:20.788925",
     "exception": false,
     "start_time": "2025-09-18T22:11:20.776557",
     "status": "completed"
    },
    "tags": []
   },
   "source": [
    "there are strange enteries, like:\n",
    "* Next Day Carriage\n",
    "* High Resolution Image\n",
    "\n",
    "Lets remove them for our analysis, because it dosent look like a product."
   ]
  },
  {
   "cell_type": "code",
   "execution_count": 24,
   "id": "518ecd88",
   "metadata": {
    "execution": {
     "iopub.execute_input": "2025-09-18T22:11:20.817183Z",
     "iopub.status.busy": "2025-09-18T22:11:20.816307Z",
     "iopub.status.idle": "2025-09-18T22:11:20.956886Z",
     "shell.execute_reply": "2025-09-18T22:11:20.955867Z"
    },
    "papermill": {
     "duration": 0.157522,
     "end_time": "2025-09-18T22:11:20.958921",
     "exception": false,
     "start_time": "2025-09-18T22:11:20.801399",
     "status": "completed"
    },
    "tags": []
   },
   "outputs": [
    {
     "data": {
      "text/plain": [
       "(399606, 10)"
      ]
     },
     "execution_count": 24,
     "metadata": {},
     "output_type": "execute_result"
    }
   ],
   "source": [
    "df_new = df_new[df_new.Description != 'Next Day Carriage' ]\n",
    "df_new = df_new[df_new.Description != 'High Resolution Image' ]\n",
    "df_new.shape"
   ]
  },
  {
   "cell_type": "markdown",
   "id": "2bdf22d8",
   "metadata": {
    "papermill": {
     "duration": 0.01366,
     "end_time": "2025-09-18T22:11:20.986813",
     "exception": false,
     "start_time": "2025-09-18T22:11:20.973153",
     "status": "completed"
    },
    "tags": []
   },
   "source": [
    "Finally, let's look into the UnitPrice column"
   ]
  },
  {
   "cell_type": "code",
   "execution_count": 25,
   "id": "9882a9de",
   "metadata": {
    "execution": {
     "iopub.execute_input": "2025-09-18T22:11:21.014153Z",
     "iopub.status.busy": "2025-09-18T22:11:21.013787Z",
     "iopub.status.idle": "2025-09-18T22:11:21.038642Z",
     "shell.execute_reply": "2025-09-18T22:11:21.037828Z"
    },
    "papermill": {
     "duration": 0.039943,
     "end_time": "2025-09-18T22:11:21.040193",
     "exception": false,
     "start_time": "2025-09-18T22:11:21.000250",
     "status": "completed"
    },
    "tags": []
   },
   "outputs": [
    {
     "data": {
      "text/plain": [
       "count    399606.000000\n",
       "mean          2.904957\n",
       "std           4.448796\n",
       "min           0.000000\n",
       "25%           1.250000\n",
       "50%           1.950000\n",
       "75%           3.750000\n",
       "max         649.500000\n",
       "Name: UnitPrice, dtype: float64"
      ]
     },
     "execution_count": 25,
     "metadata": {},
     "output_type": "execute_result"
    }
   ],
   "source": [
    "df_new.UnitPrice.describe()"
   ]
  },
  {
   "cell_type": "markdown",
   "id": "d55f99bb",
   "metadata": {
    "papermill": {
     "duration": 0.012588,
     "end_time": "2025-09-18T22:11:21.065433",
     "exception": false,
     "start_time": "2025-09-18T22:11:21.052845",
     "status": "completed"
    },
    "tags": []
   },
   "source": [
    "There are products with 0.00 price . that dosent make sense in our analysis lets remove them."
   ]
  },
  {
   "cell_type": "code",
   "execution_count": 26,
   "id": "d5feab90",
   "metadata": {
    "execution": {
     "iopub.execute_input": "2025-09-18T22:11:21.093089Z",
     "iopub.status.busy": "2025-09-18T22:11:21.092754Z",
     "iopub.status.idle": "2025-09-18T22:11:21.132918Z",
     "shell.execute_reply": "2025-09-18T22:11:21.132035Z"
    },
    "papermill": {
     "duration": 0.055791,
     "end_time": "2025-09-18T22:11:21.134457",
     "exception": false,
     "start_time": "2025-09-18T22:11:21.078666",
     "status": "completed"
    },
    "tags": []
   },
   "outputs": [
    {
     "data": {
      "text/plain": [
       "(399573, 10)"
      ]
     },
     "execution_count": 26,
     "metadata": {},
     "output_type": "execute_result"
    }
   ],
   "source": [
    "df_new = df_new[df_new.UnitPrice > 0]\n",
    "df_new.shape"
   ]
  },
  {
   "cell_type": "code",
   "execution_count": 27,
   "id": "76f5c4ec",
   "metadata": {
    "execution": {
     "iopub.execute_input": "2025-09-18T22:11:21.161257Z",
     "iopub.status.busy": "2025-09-18T22:11:21.160901Z",
     "iopub.status.idle": "2025-09-18T22:11:21.166843Z",
     "shell.execute_reply": "2025-09-18T22:11:21.165992Z"
    },
    "papermill": {
     "duration": 0.020901,
     "end_time": "2025-09-18T22:11:21.168290",
     "exception": false,
     "start_time": "2025-09-18T22:11:21.147389",
     "status": "completed"
    },
    "tags": []
   },
   "outputs": [
    {
     "data": {
      "text/plain": [
       "(399573, 10)"
      ]
     },
     "execution_count": 27,
     "metadata": {},
     "output_type": "execute_result"
    }
   ],
   "source": [
    "df_new.reset_index(drop = True, inplace = True)\n",
    "df_new.shape"
   ]
  },
  {
   "cell_type": "code",
   "execution_count": 28,
   "id": "28864cb5",
   "metadata": {
    "execution": {
     "iopub.execute_input": "2025-09-18T22:11:21.195898Z",
     "iopub.status.busy": "2025-09-18T22:11:21.195598Z",
     "iopub.status.idle": "2025-09-18T22:11:21.209980Z",
     "shell.execute_reply": "2025-09-18T22:11:21.208986Z"
    },
    "papermill": {
     "duration": 0.030146,
     "end_time": "2025-09-18T22:11:21.211690",
     "exception": false,
     "start_time": "2025-09-18T22:11:21.181544",
     "status": "completed"
    },
    "tags": []
   },
   "outputs": [
    {
     "data": {
      "text/html": [
       "<div>\n",
       "<style scoped>\n",
       "    .dataframe tbody tr th:only-of-type {\n",
       "        vertical-align: middle;\n",
       "    }\n",
       "\n",
       "    .dataframe tbody tr th {\n",
       "        vertical-align: top;\n",
       "    }\n",
       "\n",
       "    .dataframe thead th {\n",
       "        text-align: right;\n",
       "    }\n",
       "</style>\n",
       "<table border=\"1\" class=\"dataframe\">\n",
       "  <thead>\n",
       "    <tr style=\"text-align: right;\">\n",
       "      <th></th>\n",
       "      <th>InvoiceNo</th>\n",
       "      <th>StockCode</th>\n",
       "      <th>Description</th>\n",
       "      <th>Quantity</th>\n",
       "      <th>InvoiceDate</th>\n",
       "      <th>UnitPrice</th>\n",
       "      <th>CustomerID</th>\n",
       "      <th>Country</th>\n",
       "      <th>Status</th>\n",
       "      <th>Num_StockCode</th>\n",
       "    </tr>\n",
       "  </thead>\n",
       "  <tbody>\n",
       "    <tr>\n",
       "      <th>0</th>\n",
       "      <td>536365</td>\n",
       "      <td>85123A</td>\n",
       "      <td>WHITE HANGING HEART T-LIGHT HOLDER</td>\n",
       "      <td>6</td>\n",
       "      <td>12/1/2010 8:26</td>\n",
       "      <td>2.55</td>\n",
       "      <td>17850.0</td>\n",
       "      <td>United Kingdom</td>\n",
       "      <td>Completed</td>\n",
       "      <td>True</td>\n",
       "    </tr>\n",
       "    <tr>\n",
       "      <th>1</th>\n",
       "      <td>536365</td>\n",
       "      <td>71053</td>\n",
       "      <td>WHITE METAL LANTERN</td>\n",
       "      <td>6</td>\n",
       "      <td>12/1/2010 8:26</td>\n",
       "      <td>3.39</td>\n",
       "      <td>17850.0</td>\n",
       "      <td>United Kingdom</td>\n",
       "      <td>Completed</td>\n",
       "      <td>True</td>\n",
       "    </tr>\n",
       "    <tr>\n",
       "      <th>2</th>\n",
       "      <td>536365</td>\n",
       "      <td>84406B</td>\n",
       "      <td>CREAM CUPID HEARTS COAT HANGER</td>\n",
       "      <td>8</td>\n",
       "      <td>12/1/2010 8:26</td>\n",
       "      <td>2.75</td>\n",
       "      <td>17850.0</td>\n",
       "      <td>United Kingdom</td>\n",
       "      <td>Completed</td>\n",
       "      <td>True</td>\n",
       "    </tr>\n",
       "    <tr>\n",
       "      <th>3</th>\n",
       "      <td>536365</td>\n",
       "      <td>84029G</td>\n",
       "      <td>KNITTED UNION FLAG HOT WATER BOTTLE</td>\n",
       "      <td>6</td>\n",
       "      <td>12/1/2010 8:26</td>\n",
       "      <td>3.39</td>\n",
       "      <td>17850.0</td>\n",
       "      <td>United Kingdom</td>\n",
       "      <td>Completed</td>\n",
       "      <td>True</td>\n",
       "    </tr>\n",
       "    <tr>\n",
       "      <th>4</th>\n",
       "      <td>536365</td>\n",
       "      <td>84029E</td>\n",
       "      <td>RED WOOLLY HOTTIE WHITE HEART.</td>\n",
       "      <td>6</td>\n",
       "      <td>12/1/2010 8:26</td>\n",
       "      <td>3.39</td>\n",
       "      <td>17850.0</td>\n",
       "      <td>United Kingdom</td>\n",
       "      <td>Completed</td>\n",
       "      <td>True</td>\n",
       "    </tr>\n",
       "  </tbody>\n",
       "</table>\n",
       "</div>"
      ],
      "text/plain": [
       "  InvoiceNo StockCode                          Description  Quantity  \\\n",
       "0    536365    85123A   WHITE HANGING HEART T-LIGHT HOLDER         6   \n",
       "1    536365     71053                  WHITE METAL LANTERN         6   \n",
       "2    536365    84406B       CREAM CUPID HEARTS COAT HANGER         8   \n",
       "3    536365    84029G  KNITTED UNION FLAG HOT WATER BOTTLE         6   \n",
       "4    536365    84029E       RED WOOLLY HOTTIE WHITE HEART.         6   \n",
       "\n",
       "      InvoiceDate  UnitPrice  CustomerID         Country     Status  \\\n",
       "0  12/1/2010 8:26       2.55     17850.0  United Kingdom  Completed   \n",
       "1  12/1/2010 8:26       3.39     17850.0  United Kingdom  Completed   \n",
       "2  12/1/2010 8:26       2.75     17850.0  United Kingdom  Completed   \n",
       "3  12/1/2010 8:26       3.39     17850.0  United Kingdom  Completed   \n",
       "4  12/1/2010 8:26       3.39     17850.0  United Kingdom  Completed   \n",
       "\n",
       "   Num_StockCode  \n",
       "0           True  \n",
       "1           True  \n",
       "2           True  \n",
       "3           True  \n",
       "4           True  "
      ]
     },
     "execution_count": 28,
     "metadata": {},
     "output_type": "execute_result"
    }
   ],
   "source": [
    "df_new_copy = df_new # we will use this later in the recommendation system \n",
    "\n",
    "df_new.head(5)"
   ]
  },
  {
   "cell_type": "markdown",
   "id": "36a51c99",
   "metadata": {
    "papermill": {
     "duration": 0.014676,
     "end_time": "2025-09-18T22:11:21.239568",
     "exception": false,
     "start_time": "2025-09-18T22:11:21.224892",
     "status": "completed"
    },
    "tags": []
   },
   "source": [
    "## Data Preprocessing\n",
    "\n",
    "Let's make this transactional data into a customer dataset to study and perform behaviour analysis for our recommendation system.\n",
    "\n",
    "To study Customer Behaviour, we generally use the RFM method. \n",
    "* R - Recency\n",
    "* F - Frequency\n",
    "* M - Monetary\n",
    "\n",
    "**Recency** -- Informs about when the last time the customer last made a purchase.\n",
    "**Frequency** -- Informs about how frequently purchases were made in a given interval of time.\n",
    "**Monetary** -- Informs how much spending money was spent on average during each purchase.\n",
    "\n",
    "Since we are creating a recommendation system, dealing with recency doesn't help much. We will focus on Frequency and Monetary values.\n",
    "\n",
    "So we will create columns where we can see the number of transactions and the total product purchased.\n",
    "\n",
    "after that, we will look into how much money is spent by each customer and what the average transaction value."
   ]
  },
  {
   "cell_type": "code",
   "execution_count": 29,
   "id": "b98d5758",
   "metadata": {
    "execution": {
     "iopub.execute_input": "2025-09-18T22:11:21.266697Z",
     "iopub.status.busy": "2025-09-18T22:11:21.266337Z",
     "iopub.status.idle": "2025-09-18T22:11:21.335549Z",
     "shell.execute_reply": "2025-09-18T22:11:21.334409Z"
    },
    "papermill": {
     "duration": 0.084549,
     "end_time": "2025-09-18T22:11:21.337090",
     "exception": false,
     "start_time": "2025-09-18T22:11:21.252541",
     "status": "completed"
    },
    "tags": []
   },
   "outputs": [
    {
     "data": {
      "text/html": [
       "<div>\n",
       "<style scoped>\n",
       "    .dataframe tbody tr th:only-of-type {\n",
       "        vertical-align: middle;\n",
       "    }\n",
       "\n",
       "    .dataframe tbody tr th {\n",
       "        vertical-align: top;\n",
       "    }\n",
       "\n",
       "    .dataframe thead th {\n",
       "        text-align: right;\n",
       "    }\n",
       "</style>\n",
       "<table border=\"1\" class=\"dataframe\">\n",
       "  <thead>\n",
       "    <tr style=\"text-align: right;\">\n",
       "      <th></th>\n",
       "      <th>CustomerID</th>\n",
       "      <th>Num_Transactions</th>\n",
       "      <th>Total_Product_Purchased</th>\n",
       "    </tr>\n",
       "  </thead>\n",
       "  <tbody>\n",
       "    <tr>\n",
       "      <th>0</th>\n",
       "      <td>12346.0</td>\n",
       "      <td>2</td>\n",
       "      <td>0</td>\n",
       "    </tr>\n",
       "    <tr>\n",
       "      <th>1</th>\n",
       "      <td>12347.0</td>\n",
       "      <td>7</td>\n",
       "      <td>2458</td>\n",
       "    </tr>\n",
       "    <tr>\n",
       "      <th>2</th>\n",
       "      <td>12348.0</td>\n",
       "      <td>4</td>\n",
       "      <td>2332</td>\n",
       "    </tr>\n",
       "    <tr>\n",
       "      <th>3</th>\n",
       "      <td>12349.0</td>\n",
       "      <td>1</td>\n",
       "      <td>630</td>\n",
       "    </tr>\n",
       "    <tr>\n",
       "      <th>4</th>\n",
       "      <td>12350.0</td>\n",
       "      <td>1</td>\n",
       "      <td>196</td>\n",
       "    </tr>\n",
       "  </tbody>\n",
       "</table>\n",
       "</div>"
      ],
      "text/plain": [
       "   CustomerID  Num_Transactions  Total_Product_Purchased\n",
       "0     12346.0                 2                        0\n",
       "1     12347.0                 7                     2458\n",
       "2     12348.0                 4                     2332\n",
       "3     12349.0                 1                      630\n",
       "4     12350.0                 1                      196"
      ]
     },
     "execution_count": 29,
     "metadata": {},
     "output_type": "execute_result"
    }
   ],
   "source": [
    "# the new customer centeric data will be called \"customer_data\"\n",
    "# Getting number of transactions by each customer\n",
    "num_transactions = df_new.groupby('CustomerID')['InvoiceNo'].nunique().reset_index()\n",
    "num_transactions.rename(columns = {'InvoiceNo' : 'Num_Transactions'}, inplace = True)\n",
    "\n",
    "# Getting total number of products purchased by customer\n",
    "total_product_purchased = df_new.groupby('CustomerID')['Quantity'].sum().reset_index()\n",
    "total_product_purchased.rename(columns = {'Quantity': 'Total_Product_Purchased'}, inplace = True)\n",
    "\n",
    "# Joining two columns into one \n",
    "customer_data = pd.merge(num_transactions, total_product_purchased, on='CustomerID')\n",
    "\n",
    "customer_data.head()"
   ]
  },
  {
   "cell_type": "code",
   "execution_count": 30,
   "id": "9b257811",
   "metadata": {
    "execution": {
     "iopub.execute_input": "2025-09-18T22:11:21.364830Z",
     "iopub.status.busy": "2025-09-18T22:11:21.364519Z",
     "iopub.status.idle": "2025-09-18T22:11:21.406728Z",
     "shell.execute_reply": "2025-09-18T22:11:21.405777Z"
    },
    "papermill": {
     "duration": 0.057812,
     "end_time": "2025-09-18T22:11:21.408208",
     "exception": false,
     "start_time": "2025-09-18T22:11:21.350396",
     "status": "completed"
    },
    "tags": []
   },
   "outputs": [
    {
     "data": {
      "text/html": [
       "<div>\n",
       "<style scoped>\n",
       "    .dataframe tbody tr th:only-of-type {\n",
       "        vertical-align: middle;\n",
       "    }\n",
       "\n",
       "    .dataframe tbody tr th {\n",
       "        vertical-align: top;\n",
       "    }\n",
       "\n",
       "    .dataframe thead th {\n",
       "        text-align: right;\n",
       "    }\n",
       "</style>\n",
       "<table border=\"1\" class=\"dataframe\">\n",
       "  <thead>\n",
       "    <tr style=\"text-align: right;\">\n",
       "      <th></th>\n",
       "      <th>CustomerID</th>\n",
       "      <th>Num_Transactions</th>\n",
       "      <th>Total_Product_Purchased</th>\n",
       "      <th>Total_Spend</th>\n",
       "      <th>Average_Per_Transaction</th>\n",
       "    </tr>\n",
       "  </thead>\n",
       "  <tbody>\n",
       "    <tr>\n",
       "      <th>0</th>\n",
       "      <td>12346.0</td>\n",
       "      <td>2</td>\n",
       "      <td>0</td>\n",
       "      <td>0.00</td>\n",
       "      <td>0.000000</td>\n",
       "    </tr>\n",
       "    <tr>\n",
       "      <th>1</th>\n",
       "      <td>12347.0</td>\n",
       "      <td>7</td>\n",
       "      <td>2458</td>\n",
       "      <td>4310.00</td>\n",
       "      <td>615.714286</td>\n",
       "    </tr>\n",
       "    <tr>\n",
       "      <th>2</th>\n",
       "      <td>12348.0</td>\n",
       "      <td>4</td>\n",
       "      <td>2332</td>\n",
       "      <td>1437.24</td>\n",
       "      <td>359.310000</td>\n",
       "    </tr>\n",
       "    <tr>\n",
       "      <th>3</th>\n",
       "      <td>12349.0</td>\n",
       "      <td>1</td>\n",
       "      <td>630</td>\n",
       "      <td>1457.55</td>\n",
       "      <td>1457.550000</td>\n",
       "    </tr>\n",
       "    <tr>\n",
       "      <th>4</th>\n",
       "      <td>12350.0</td>\n",
       "      <td>1</td>\n",
       "      <td>196</td>\n",
       "      <td>294.40</td>\n",
       "      <td>294.400000</td>\n",
       "    </tr>\n",
       "  </tbody>\n",
       "</table>\n",
       "</div>"
      ],
      "text/plain": [
       "   CustomerID  Num_Transactions  Total_Product_Purchased  Total_Spend  \\\n",
       "0     12346.0                 2                        0         0.00   \n",
       "1     12347.0                 7                     2458      4310.00   \n",
       "2     12348.0                 4                     2332      1437.24   \n",
       "3     12349.0                 1                      630      1457.55   \n",
       "4     12350.0                 1                      196       294.40   \n",
       "\n",
       "   Average_Per_Transaction  \n",
       "0                 0.000000  \n",
       "1               615.714286  \n",
       "2               359.310000  \n",
       "3              1457.550000  \n",
       "4               294.400000  "
      ]
     },
     "execution_count": 30,
     "metadata": {},
     "output_type": "execute_result"
    }
   ],
   "source": [
    "# Getting total expenditure by each customer\n",
    "df_new['Total_Spend'] = df_new['UnitPrice'] * df_new['Quantity']\n",
    "total_spend = df_new.groupby('CustomerID')['Total_Spend'].sum().reset_index()\n",
    "\n",
    "# Merging Total_Spend with customer_data\n",
    "customer_data = pd.merge( customer_data, total_spend, on = 'CustomerID')\n",
    "\n",
    "# Getting Average spend by each customer per transaction.\n",
    "customer_data['Average_Per_Transaction'] = customer_data['Total_Spend'] / customer_data['Num_Transactions']\n",
    "\n",
    "customer_data.head()"
   ]
  },
  {
   "cell_type": "code",
   "execution_count": 31,
   "id": "59a763a7",
   "metadata": {
    "execution": {
     "iopub.execute_input": "2025-09-18T22:11:21.436426Z",
     "iopub.status.busy": "2025-09-18T22:11:21.436049Z",
     "iopub.status.idle": "2025-09-18T22:11:21.442691Z",
     "shell.execute_reply": "2025-09-18T22:11:21.441758Z"
    },
    "papermill": {
     "duration": 0.022654,
     "end_time": "2025-09-18T22:11:21.444206",
     "exception": false,
     "start_time": "2025-09-18T22:11:21.421552",
     "status": "completed"
    },
    "tags": []
   },
   "outputs": [],
   "source": [
    "# Lets remove cancellations for now\n",
    "customer_data = customer_data[customer_data['Total_Product_Purchased'] > 0]\n",
    "\n",
    "customer_data_cleaned = customer_data # we will use this later in the recommendation system"
   ]
  },
  {
   "cell_type": "code",
   "execution_count": 32,
   "id": "3336fb66",
   "metadata": {
    "execution": {
     "iopub.execute_input": "2025-09-18T22:11:21.472087Z",
     "iopub.status.busy": "2025-09-18T22:11:21.471748Z",
     "iopub.status.idle": "2025-09-18T22:11:23.362648Z",
     "shell.execute_reply": "2025-09-18T22:11:23.361621Z"
    },
    "papermill": {
     "duration": 1.906643,
     "end_time": "2025-09-18T22:11:23.364233",
     "exception": false,
     "start_time": "2025-09-18T22:11:21.457590",
     "status": "completed"
    },
    "tags": []
   },
   "outputs": [
    {
     "data": {
      "image/png": "[encoded data removed]",
      "text/plain": [
       "<Figure size 800x550 with 1 Axes>"
      ]
     },
     "metadata": {},
     "output_type": "display_data"
    },
    {
     "data": {
      "text/plain": [
       "<Axes: title={'center': 'Distortion Score Elbow for KMeans Clustering'}, xlabel='k', ylabel='distortion score'>"
      ]
     },
     "execution_count": 32,
     "metadata": {},
     "output_type": "execute_result"
    }
   ],
   "source": [
    "from sklearn.cluster import KMeans\n",
    "from yellowbrick.cluster import KElbowVisualizer\n",
    "k_means = KMeans(init = 'k-means++', n_init=10, max_iter = 100, random_state = 0)\n",
    "visualize = KElbowVisualizer(k_means, k=(2,15), timings = False)\n",
    "visualize.fit(customer_data)\n",
    "visualize.show()"
   ]
  },
  {
   "cell_type": "code",
   "execution_count": 33,
   "id": "61a58d2e",
   "metadata": {
    "execution": {
     "iopub.execute_input": "2025-09-18T22:11:23.400131Z",
     "iopub.status.busy": "2025-09-18T22:11:23.399565Z",
     "iopub.status.idle": "2025-09-18T22:11:24.041282Z",
     "shell.execute_reply": "2025-09-18T22:11:24.040347Z"
    },
    "papermill": {
     "duration": 0.662668,
     "end_time": "2025-09-18T22:11:24.043084",
     "exception": false,
     "start_time": "2025-09-18T22:11:23.380416",
     "status": "completed"
    },
    "tags": []
   },
   "outputs": [
    {
     "data": {
      "image/png": "[encoded data removed]",
      "text/plain": [
       "<Figure size 800x550 with 1 Axes>"
      ]
     },
     "metadata": {},
     "output_type": "display_data"
    }
   ],
   "source": [
    "from sklearn.preprocessing import MinMaxScaler, StandardScaler\n",
    "\n",
    "x = customer_data[['Num_Transactions', 'Total_Product_Purchased', 'Total_Spend', 'Average_Per_Transaction']]\n",
    "scaler = StandardScaler()\n",
    "x_scaled = scaler.fit_transform(x)\n",
    "\n",
    "# Applying KMeans\n",
    "kmeans = KMeans(n_clusters = 6, random_state = 1)\n",
    "customer_data['Cluster'] = kmeans.fit_predict(x_scaled)\n",
    "\n",
    "# Plotting\n",
    "sns.scatterplot(x = 'Total_Spend', y = 'Average_Per_Transaction', hue= 'Cluster', data = customer_data, s =100)\n",
    "plt.title('K-Means Clustering')\n",
    "plt.xlabel('Total_Spend')\n",
    "plt.ylabel('Average Per Transaction')\n",
    "plt.legend(title = 'Cluster')\n",
    "plt.show()\n"
   ]
  },
  {
   "cell_type": "markdown",
   "id": "65d30ad7",
   "metadata": {
    "papermill": {
     "duration": 0.014962,
     "end_time": "2025-09-18T22:11:24.073388",
     "exception": false,
     "start_time": "2025-09-18T22:11:24.058426",
     "status": "completed"
    },
    "tags": []
   },
   "source": [
    "The above results are not very helpful. Let's look into it from a different perspective. Since its points are becoming saturated, let's try taking the log of the variables and see if it provides us with more insight into the data.\n"
   ]
  },
  {
   "cell_type": "code",
   "execution_count": 34,
   "id": "b1d9937b",
   "metadata": {
    "execution": {
     "iopub.execute_input": "2025-09-18T22:11:24.105230Z",
     "iopub.status.busy": "2025-09-18T22:11:24.104887Z",
     "iopub.status.idle": "2025-09-18T22:11:24.383995Z",
     "shell.execute_reply": "2025-09-18T22:11:24.383002Z"
    },
    "papermill": {
     "duration": 0.297765,
     "end_time": "2025-09-18T22:11:24.386317",
     "exception": false,
     "start_time": "2025-09-18T22:11:24.088552",
     "status": "completed"
    },
    "tags": []
   },
   "outputs": [
    {
     "data": {
      "image/png": "[encoded data removed]",
      "text/plain": [
       "<Figure size 800x600 with 1 Axes>"
      ]
     },
     "metadata": {},
     "output_type": "display_data"
    }
   ],
   "source": [
    "import numpy as np\n",
    "from sklearn.preprocessing import MinMaxScaler\n",
    "import matplotlib.pyplot as plt\n",
    "\n",
    "# Log-transform to reduce skew\n",
    "customer_data['Num_Transactions_log'] = np.log1p(customer_data['Num_Transactions'])\n",
    "customer_data['Average_Per_Transaction_log'] = np.log1p(customer_data['Average_Per_Transaction'])\n",
    "\n",
    "# Scale the log-transformed data\n",
    "scaler = MinMaxScaler()\n",
    "customer_data[['Num_Transactions_Scaled', 'Average_Per_Transaction_Scaled']] = scaler.fit_transform(\n",
    "    customer_data[['Num_Transactions_log', 'Average_Per_Transaction_log']]\n",
    ")\n",
    "\n",
    "# Compute medians for quadrant lines\n",
    "freq_median = customer_data['Num_Transactions_Scaled'].median()\n",
    "spend_median = customer_data['Average_Per_Transaction_Scaled'].median()\n",
    "\n",
    "# Plot all data points in gray\n",
    "plt.figure(figsize=(8, 6))\n",
    "plt.scatter(\n",
    "    customer_data['Num_Transactions_Scaled'],\n",
    "    customer_data['Average_Per_Transaction_Scaled'],\n",
    "    color='gray',\n",
    "    alpha=0.7,\n",
    "    s=100\n",
    ")\n",
    "\n",
    "# Draw median lines\n",
    "plt.axvline(freq_median, color='black', linestyle='--')\n",
    "plt.axhline(spend_median, color='black', linestyle='--')\n",
    "\n",
    "# Labels and styling\n",
    "plt.title('Customer Segmentation (Log-Scaled)')\n",
    "plt.xlabel('Transaction Frequency (Scaled, log)')\n",
    "plt.ylabel('Average Spend per Transaction (Scaled, log)')\n",
    "plt.grid(True, linestyle='--', alpha=0.5)\n",
    "plt.tight_layout()\n",
    "plt.show()\n"
   ]
  },
  {
   "cell_type": "markdown",
   "id": "672cf18e",
   "metadata": {
    "papermill": {
     "duration": 0.0173,
     "end_time": "2025-09-18T22:11:24.421647",
     "exception": false,
     "start_time": "2025-09-18T22:11:24.404347",
     "status": "completed"
    },
    "tags": []
   },
   "source": [
    "## What Now!!\n",
    "\n",
    "Now, take a pause and ask, What can we do with the data?, What i want to achieve and how can i use the data to achieve it?\n",
    "\n",
    "> #### Pro Tip!!\n",
    "> \n",
    "> Always ask these questions timt to time when you are dealing wth data, it keeps you on right track.\n",
    "> Data is a key to solving a lot of mysteries, sometimes it take us to intirely different path than we first initiated. We need to keep in mind how to utilise this abundance of knowledge to solve the mystery we are persuing.... "
   ]
  },
  {
   "cell_type": "markdown",
   "id": "7b3976a6",
   "metadata": {
    "papermill": {
     "duration": 0.01704,
     "end_time": "2025-09-18T22:11:24.456695",
     "exception": false,
     "start_time": "2025-09-18T22:11:24.439655",
     "status": "completed"
    },
    "tags": []
   },
   "source": [
    "Customer Segmentation can be performed in many different ways; the question is in which categories we want to segment and what we want to segment.\n",
    "In here, I want to categorise the customers according to their expenditure potential. This way, we can target those who are spending less.\n",
    "\n",
    "And from the above graph, it is clearly shown that our customers can be divided into four sections.\n",
    "For this, I will use the *Johari Window* to visualise it more clearly."
   ]
  },
  {
   "cell_type": "code",
   "execution_count": 35,
   "id": "763eea8a",
   "metadata": {
    "execution": {
     "iopub.execute_input": "2025-09-18T22:11:24.493708Z",
     "iopub.status.busy": "2025-09-18T22:11:24.493413Z",
     "iopub.status.idle": "2025-09-18T22:11:24.959723Z",
     "shell.execute_reply": "2025-09-18T22:11:24.958683Z"
    },
    "papermill": {
     "duration": 0.487922,
     "end_time": "2025-09-18T22:11:24.962545",
     "exception": false,
     "start_time": "2025-09-18T22:11:24.474623",
     "status": "completed"
    },
    "tags": []
   },
   "outputs": [
    {
     "data": {
      "image/png": "[encoded data removed]",
      "text/plain": [
       "<Figure size 800x600 with 1 Axes>"
      ]
     },
     "metadata": {},
     "output_type": "display_data"
    }
   ],
   "source": [
    "import numpy as np\n",
    "from sklearn.preprocessing import MinMaxScaler\n",
    "\n",
    "# Log-transform to reduce skew\n",
    "customer_data['Num_Transactions_log'] = np.log1p(customer_data['Num_Transactions'])\n",
    "customer_data['Average_Per_Transaction_log'] = np.log1p(customer_data['Average_Per_Transaction'])\n",
    "\n",
    "# Scale the log-transformed data\n",
    "scaler = MinMaxScaler()\n",
    "customer_data[['Num_Transactions_Scaled', 'Average_Per_Transaction_Scaled']] = scaler.fit_transform(\n",
    "    customer_data[['Num_Transactions_log', 'Average_Per_Transaction_log']]\n",
    ")\n",
    "\n",
    "# Compute medians for quadrant lines\n",
    "freq_median = customer_data['Num_Transactions_Scaled'].median()\n",
    "spend_median = customer_data['Average_Per_Transaction_Scaled'].median()\n",
    "\n",
    "# Label each point\n",
    "def label_row(row):\n",
    "    freq_label = 'More Frequent' if row['Num_Transactions_Scaled'] >= freq_median else 'Less Frequent'\n",
    "    spend_label = 'High Spender' if row['Average_Per_Transaction_Scaled'] >= spend_median else 'Low Spender'\n",
    "    return f\"{spend_label}, {freq_label}\"\n",
    "\n",
    "customer_data['Segment'] = customer_data.apply(label_row, axis=1)\n",
    "\n",
    "# Plot Johari Window\n",
    "import matplotlib.pyplot as plt\n",
    "\n",
    "colors = {\n",
    "    'High Spender, More Frequent': 'green',\n",
    "    'High Spender, Less Frequent': 'orange',\n",
    "    'Low Spender, Less Frequent': 'red',\n",
    "    'Low Spender, More Frequent': 'blue'\n",
    "}\n",
    "\n",
    "plt.figure(figsize=(8, 6))\n",
    "for segment, group in customer_data.groupby('Segment'):\n",
    "    plt.scatter(\n",
    "        group['Num_Transactions_Scaled'],\n",
    "        group['Average_Per_Transaction_Scaled'],\n",
    "        label=segment,\n",
    "        color=colors.get(segment, 'gray'),\n",
    "        alpha=0.7,\n",
    "        s=100\n",
    "    )\n",
    "\n",
    "plt.axvline(freq_median, color='black', linestyle='--')\n",
    "plt.axhline(spend_median, color='black', linestyle='--')\n",
    "plt.title('Johari Window Customer Segmentation (Log-Scaled)')\n",
    "plt.xlabel('Transaction Frequency (Scaled, log)')\n",
    "plt.ylabel('Average Spend per Transaction (Scaled, log)')\n",
    "plt.legend()\n",
    "plt.grid(True, linestyle='--', alpha=0.5)\n",
    "plt.tight_layout()\n",
    "plt.show()\n"
   ]
  },
  {
   "cell_type": "markdown",
   "id": "e2299ef3",
   "metadata": {
    "papermill": {
     "duration": 0.019831,
     "end_time": "2025-09-18T22:11:25.003708",
     "exception": false,
     "start_time": "2025-09-18T22:11:24.983877",
     "status": "completed"
    },
    "tags": []
   },
   "source": [
    "From the above graph, we can target our customers accordingly and form a market strategy like coupons, discounts on specific products, bundles, etc.\n",
    "\n",
    "Our main goal is to propose offers to our customer in a way that we can increase their frequency and expenditure value. In other words, tailored offers to push customers from their respective zones towards the green zone.\n"
   ]
  },
  {
   "cell_type": "markdown",
   "id": "3fc0bd00",
   "metadata": {
    "papermill": {
     "duration": 0.01908,
     "end_time": "2025-09-18T22:11:25.042878",
     "exception": false,
     "start_time": "2025-09-18T22:11:25.023798",
     "status": "completed"
    },
    "tags": []
   },
   "source": [
    "## Now Finale of this project: Recommendation System"
   ]
  },
  {
   "cell_type": "markdown",
   "id": "fd22a877",
   "metadata": {
    "papermill": {
     "duration": 0.019256,
     "end_time": "2025-09-18T22:11:25.081486",
     "exception": false,
     "start_time": "2025-09-18T22:11:25.062230",
     "status": "completed"
    },
    "tags": []
   },
   "source": [
    "For the recommendation system, I will display the recommendation to section one will be the products that are popular globally.\n",
    "And in another section, it is recommended according to the behaviour pattern of the users."
   ]
  },
  {
   "cell_type": "code",
   "execution_count": 36,
   "id": "ca7a8893",
   "metadata": {
    "execution": {
     "iopub.execute_input": "2025-09-18T22:11:25.122093Z",
     "iopub.status.busy": "2025-09-18T22:11:25.120944Z",
     "iopub.status.idle": "2025-09-18T22:11:32.224246Z",
     "shell.execute_reply": "2025-09-18T22:11:32.223235Z"
    },
    "papermill": {
     "duration": 7.125271,
     "end_time": "2025-09-18T22:11:32.226081",
     "exception": false,
     "start_time": "2025-09-18T22:11:25.100810",
     "status": "completed"
    },
    "tags": []
   },
   "outputs": [],
   "source": [
    "import pandas as pd\n",
    "\n",
    "# Filter out invalid/negative transactions\n",
    "df_new_copy = df_new_copy[df_new_copy['Quantity'] > 0]\n",
    "\n",
    "# Get top N best-selling products overall\n",
    "best_selling_products = df_new_copy.groupby(['StockCode', 'Description'])['Quantity'].sum().reset_index()\n",
    "best_selling_products = best_selling_products.sort_values(by='Quantity', ascending=False)\n",
    "top_products = best_selling_products.head(10)\n",
    "\n",
    "# Record products purchased by each customer\n",
    "customer_purchases = df_new_copy.groupby(['CustomerID', 'StockCode'])['Quantity'].sum().reset_index()\n",
    "\n",
    "# Generate recommendations per customer\n",
    "recommendations = []\n",
    "for customer in customer_data_cleaned['CustomerID']:\n",
    "    purchased_products = customer_purchases[customer_purchases['CustomerID'] == customer]['StockCode'].tolist()\n",
    "    \n",
    "    # Recommend top 3 best-sellers not purchased yet\n",
    "    top_not_purchased = top_products[~top_products['StockCode'].isin(purchased_products)].head(3)\n",
    "    \n",
    "    recommendations.append([customer] + top_not_purchased[['StockCode', 'Description']].values.flatten().tolist())\n",
    "\n",
    "# Create recommendations dataframe\n",
    "recommendations_df = pd.DataFrame(recommendations, columns=[\n",
    "    'CustomerID',\n",
    "    'Rec1_StockCode', 'Rec1_Description',\n",
    "    'Rec2_StockCode', 'Rec2_Description',\n",
    "    'Rec3_StockCode', 'Rec3_Description'\n",
    "])\n",
    "\n",
    "# Merge with customer data\n",
    "customer_data_with_recommendations = customer_data.merge(recommendations_df, on='CustomerID', how='left')\n",
    "\n",
    "# Display sample recommendations\n",
    "# print(customer_data_with_recommendations.sample(10, random_state=0))\n"
   ]
  },
  {
   "cell_type": "code",
   "execution_count": 37,
   "id": "cdd9f599",
   "metadata": {
    "execution": {
     "iopub.execute_input": "2025-09-18T22:11:32.267164Z",
     "iopub.status.busy": "2025-09-18T22:11:32.266625Z",
     "iopub.status.idle": "2025-09-18T22:11:32.279867Z",
     "shell.execute_reply": "2025-09-18T22:11:32.278755Z"
    },
    "papermill": {
     "duration": 0.036119,
     "end_time": "2025-09-18T22:11:32.281530",
     "exception": false,
     "start_time": "2025-09-18T22:11:32.245411",
     "status": "completed"
    },
    "tags": []
   },
   "outputs": [
    {
     "data": {
      "text/html": [
       "<div>\n",
       "<style scoped>\n",
       "    .dataframe tbody tr th:only-of-type {\n",
       "        vertical-align: middle;\n",
       "    }\n",
       "\n",
       "    .dataframe tbody tr th {\n",
       "        vertical-align: top;\n",
       "    }\n",
       "\n",
       "    .dataframe thead th {\n",
       "        text-align: right;\n",
       "    }\n",
       "</style>\n",
       "<table border=\"1\" class=\"dataframe\">\n",
       "  <thead>\n",
       "    <tr style=\"text-align: right;\">\n",
       "      <th></th>\n",
       "      <th>CustomerID</th>\n",
       "      <th>Rec1_StockCode</th>\n",
       "      <th>Rec1_Description</th>\n",
       "      <th>Rec2_StockCode</th>\n",
       "      <th>Rec2_Description</th>\n",
       "      <th>Rec3_StockCode</th>\n",
       "      <th>Rec3_Description</th>\n",
       "    </tr>\n",
       "  </thead>\n",
       "  <tbody>\n",
       "    <tr>\n",
       "      <th>0</th>\n",
       "      <td>12347.0</td>\n",
       "      <td>23843</td>\n",
       "      <td>PAPER CRAFT , LITTLE BIRDIE</td>\n",
       "      <td>23166</td>\n",
       "      <td>MEDIUM CERAMIC TOP STORAGE JAR</td>\n",
       "      <td>84077</td>\n",
       "      <td>WORLD WAR 2 GLIDERS ASSTD DESIGNS</td>\n",
       "    </tr>\n",
       "    <tr>\n",
       "      <th>1</th>\n",
       "      <td>12348.0</td>\n",
       "      <td>23843</td>\n",
       "      <td>PAPER CRAFT , LITTLE BIRDIE</td>\n",
       "      <td>23166</td>\n",
       "      <td>MEDIUM CERAMIC TOP STORAGE JAR</td>\n",
       "      <td>84077</td>\n",
       "      <td>WORLD WAR 2 GLIDERS ASSTD DESIGNS</td>\n",
       "    </tr>\n",
       "    <tr>\n",
       "      <th>2</th>\n",
       "      <td>12349.0</td>\n",
       "      <td>23843</td>\n",
       "      <td>PAPER CRAFT , LITTLE BIRDIE</td>\n",
       "      <td>23166</td>\n",
       "      <td>MEDIUM CERAMIC TOP STORAGE JAR</td>\n",
       "      <td>84077</td>\n",
       "      <td>WORLD WAR 2 GLIDERS ASSTD DESIGNS</td>\n",
       "    </tr>\n",
       "    <tr>\n",
       "      <th>3</th>\n",
       "      <td>12350.0</td>\n",
       "      <td>23843</td>\n",
       "      <td>PAPER CRAFT , LITTLE BIRDIE</td>\n",
       "      <td>23166</td>\n",
       "      <td>MEDIUM CERAMIC TOP STORAGE JAR</td>\n",
       "      <td>84077</td>\n",
       "      <td>WORLD WAR 2 GLIDERS ASSTD DESIGNS</td>\n",
       "    </tr>\n",
       "    <tr>\n",
       "      <th>4</th>\n",
       "      <td>12352.0</td>\n",
       "      <td>23843</td>\n",
       "      <td>PAPER CRAFT , LITTLE BIRDIE</td>\n",
       "      <td>23166</td>\n",
       "      <td>MEDIUM CERAMIC TOP STORAGE JAR</td>\n",
       "      <td>84077</td>\n",
       "      <td>WORLD WAR 2 GLIDERS ASSTD DESIGNS</td>\n",
       "    </tr>\n",
       "  </tbody>\n",
       "</table>\n",
       "</div>"
      ],
      "text/plain": [
       "   CustomerID Rec1_StockCode             Rec1_Description Rec2_StockCode  \\\n",
       "0     12347.0          23843  PAPER CRAFT , LITTLE BIRDIE          23166   \n",
       "1     12348.0          23843  PAPER CRAFT , LITTLE BIRDIE          23166   \n",
       "2     12349.0          23843  PAPER CRAFT , LITTLE BIRDIE          23166   \n",
       "3     12350.0          23843  PAPER CRAFT , LITTLE BIRDIE          23166   \n",
       "4     12352.0          23843  PAPER CRAFT , LITTLE BIRDIE          23166   \n",
       "\n",
       "                 Rec2_Description Rec3_StockCode  \\\n",
       "0  MEDIUM CERAMIC TOP STORAGE JAR          84077   \n",
       "1  MEDIUM CERAMIC TOP STORAGE JAR          84077   \n",
       "2  MEDIUM CERAMIC TOP STORAGE JAR          84077   \n",
       "3  MEDIUM CERAMIC TOP STORAGE JAR          84077   \n",
       "4  MEDIUM CERAMIC TOP STORAGE JAR          84077   \n",
       "\n",
       "                    Rec3_Description  \n",
       "0  WORLD WAR 2 GLIDERS ASSTD DESIGNS  \n",
       "1  WORLD WAR 2 GLIDERS ASSTD DESIGNS  \n",
       "2  WORLD WAR 2 GLIDERS ASSTD DESIGNS  \n",
       "3  WORLD WAR 2 GLIDERS ASSTD DESIGNS  \n",
       "4  WORLD WAR 2 GLIDERS ASSTD DESIGNS  "
      ]
     },
     "execution_count": 37,
     "metadata": {},
     "output_type": "execute_result"
    }
   ],
   "source": [
    "customer_data_with_recommendations[['CustomerID', 'Rec1_StockCode', 'Rec1_Description','Rec2_StockCode', 'Rec2_Description', 'Rec3_StockCode', 'Rec3_Description']].head()"
   ]
  },
  {
   "cell_type": "code",
   "execution_count": 38,
   "id": "31297f7a",
   "metadata": {
    "execution": {
     "iopub.execute_input": "2025-09-18T22:11:32.322215Z",
     "iopub.status.busy": "2025-09-18T22:11:32.321869Z",
     "iopub.status.idle": "2025-09-18T22:13:49.567990Z",
     "shell.execute_reply": "2025-09-18T22:13:49.566870Z"
    },
    "papermill": {
     "duration": 137.268583,
     "end_time": "2025-09-18T22:13:49.569947",
     "exception": false,
     "start_time": "2025-09-18T22:11:32.301364",
     "status": "completed"
    },
    "tags": []
   },
   "outputs": [],
   "source": [
    "import pandas as pd\n",
    "from sklearn.metrics.pairwise import cosine_similarity\n",
    "\n",
    "\n",
    "# Transactions table \n",
    "df_new_copy = df_new_copy[df_new_copy['Quantity'] > 0] # keep only valid purchases\n",
    "\n",
    "# Customer summary table \n",
    "customer_data_cleaned = customer_data_cleaned.drop_duplicates(subset=['CustomerID'])\n",
    "\n",
    "# Create Customer-Product matrix\n",
    "customer_product_matrix = df_new_copy.pivot_table(index='CustomerID',\n",
    "                                         columns='StockCode',\n",
    "                                         values='Quantity',\n",
    "                                         aggfunc='sum',\n",
    "                                         fill_value=0)\n",
    "\n",
    "\n",
    "# Global Popular Products\n",
    "\n",
    "global_popular = (df_new_copy.groupby(['StockCode', 'Description'])['Quantity']\n",
    "                  .sum()\n",
    "                  .reset_index()\n",
    "                  .sort_values(by='Quantity', ascending=False))\n",
    "\n",
    "top_global = global_popular[['StockCode', 'Description']].head(3)\n",
    "\n",
    "\n",
    "# Personalized (User-User Similarity)\n",
    "similarity_matrix = cosine_similarity(customer_product_matrix)\n",
    "similarity_df = pd.DataFrame(similarity_matrix,\n",
    "                             index=customer_product_matrix.index,\n",
    "                             columns=customer_product_matrix.index)\n",
    "\n",
    "def get_personal_recs(customer_id, top_n=3, neighbour_count=5):\n",
    "    if customer_id not in similarity_df.index:\n",
    "        return []\n",
    "\n",
    "    # Find most similar customers (exclude self)\n",
    "    similar_customers = similarity_df.loc[customer_id].sort_values(ascending=False).iloc[1:neighbour_count+1].index\n",
    "    \n",
    "    # Products current customer already purchased\n",
    "    purchased = set(customer_product_matrix.loc[customer_id][customer_product_matrix.loc[customer_id] > 0].index)\n",
    "    \n",
    "    # Aggregate products from similar customers\n",
    "    similar_products = (customer_product_matrix.loc[similar_customers].sum()\n",
    "                        .sort_values(ascending=False))\n",
    "    \n",
    "    # Exclude already purchased\n",
    "    recs = similar_products[~similar_products.index.isin(purchased)].head(top_n)\n",
    "    \n",
    "    # Map StockCode → Description\n",
    "    recs_df = df_new_copy[df_new_copy['StockCode'].isin(recs.index)][['StockCode', 'Description']].drop_duplicates()\n",
    "    return recs_df.head(top_n).values.tolist()\n",
    "\n",
    "# Build Recommendation Table\n",
    "recommendations = []\n",
    "for customer in customer_product_matrix.index:\n",
    "    # Global recommendations (same for all customers)\n",
    "    global_recs = top_global.values.flatten().tolist()\n",
    "    \n",
    "    # Personalized recommendations\n",
    "    personal_recs = get_personal_recs(customer, top_n=3)\n",
    "    personal_recs_flat = [item for sublist in personal_recs for item in sublist]\n",
    "    \n",
    "    recommendations.append([customer] + global_recs + personal_recs_flat)\n",
    "\n",
    "# Create Final DataFrame\n",
    "\n",
    "recommendations_df = pd.DataFrame(recommendations, columns=[\n",
    "    'CustomerID',\n",
    "    'Global1_StockCode', 'Global1_Description',\n",
    "    'Global2_StockCode', 'Global2_Description',\n",
    "    'Global3_StockCode', 'Global3_Description',\n",
    "    'Pers1_StockCode', 'Pers1_Description',\n",
    "    'Pers2_StockCode', 'Pers2_Description',\n",
    "    'Pers3_StockCode', 'Pers3_Description'\n",
    "])\n",
    "\n",
    "# Merge with customer profile (Table 2)\n",
    "customer_data_with_recommendations = customer_data_cleaned.merge(recommendations_df, on='CustomerID', how='left')\n",
    "\n",
    "\n",
    "#print(customer_data_with_recommendations.sample(5, random_state=0))\n"
   ]
  },
  {
   "cell_type": "code",
   "execution_count": 39,
   "id": "d7df2eb9",
   "metadata": {
    "execution": {
     "iopub.execute_input": "2025-09-18T22:13:49.611010Z",
     "iopub.status.busy": "2025-09-18T22:13:49.610659Z",
     "iopub.status.idle": "2025-09-18T22:13:49.626851Z",
     "shell.execute_reply": "2025-09-18T22:13:49.625903Z"
    },
    "papermill": {
     "duration": 0.038423,
     "end_time": "2025-09-18T22:13:49.628516",
     "exception": false,
     "start_time": "2025-09-18T22:13:49.590093",
     "status": "completed"
    },
    "tags": []
   },
   "outputs": [
    {
     "data": {
      "text/html": [
       "<div>\n",
       "<style scoped>\n",
       "    .dataframe tbody tr th:only-of-type {\n",
       "        vertical-align: middle;\n",
       "    }\n",
       "\n",
       "    .dataframe tbody tr th {\n",
       "        vertical-align: top;\n",
       "    }\n",
       "\n",
       "    .dataframe thead th {\n",
       "        text-align: right;\n",
       "    }\n",
       "</style>\n",
       "<table border=\"1\" class=\"dataframe\">\n",
       "  <thead>\n",
       "    <tr style=\"text-align: right;\">\n",
       "      <th></th>\n",
       "      <th>CustomerID</th>\n",
       "      <th>Global1_StockCode</th>\n",
       "      <th>Global1_Description</th>\n",
       "      <th>Global2_StockCode</th>\n",
       "      <th>Global2_Description</th>\n",
       "      <th>Global3_StockCode</th>\n",
       "      <th>Global3_Description</th>\n",
       "      <th>Pers1_StockCode</th>\n",
       "      <th>Pers1_Description</th>\n",
       "      <th>Pers2_StockCode</th>\n",
       "      <th>Pers2_Description</th>\n",
       "      <th>Pers3_StockCode</th>\n",
       "      <th>Pers3_Description</th>\n",
       "    </tr>\n",
       "  </thead>\n",
       "  <tbody>\n",
       "    <tr>\n",
       "      <th>0</th>\n",
       "      <td>12347.0</td>\n",
       "      <td>23843</td>\n",
       "      <td>PAPER CRAFT , LITTLE BIRDIE</td>\n",
       "      <td>23166</td>\n",
       "      <td>MEDIUM CERAMIC TOP STORAGE JAR</td>\n",
       "      <td>84077</td>\n",
       "      <td>WORLD WAR 2 GLIDERS ASSTD DESIGNS</td>\n",
       "      <td>22418</td>\n",
       "      <td>10 COLOUR SPACEBOY PEN</td>\n",
       "      <td>22693</td>\n",
       "      <td>GROW A FLYTRAP OR SUNFLOWER IN TIN</td>\n",
       "      <td>23077</td>\n",
       "      <td>DOUGHNUT LIP GLOSS</td>\n",
       "    </tr>\n",
       "    <tr>\n",
       "      <th>1</th>\n",
       "      <td>12348.0</td>\n",
       "      <td>23843</td>\n",
       "      <td>PAPER CRAFT , LITTLE BIRDIE</td>\n",
       "      <td>23166</td>\n",
       "      <td>MEDIUM CERAMIC TOP STORAGE JAR</td>\n",
       "      <td>84077</td>\n",
       "      <td>WORLD WAR 2 GLIDERS ASSTD DESIGNS</td>\n",
       "      <td>21975</td>\n",
       "      <td>PACK OF 60 DINOSAUR CAKE CASES</td>\n",
       "      <td>21986</td>\n",
       "      <td>PACK OF 12 PINK POLKADOT TISSUES</td>\n",
       "      <td>23309</td>\n",
       "      <td>SET OF 60 I LOVE LONDON CAKE CASES</td>\n",
       "    </tr>\n",
       "    <tr>\n",
       "      <th>2</th>\n",
       "      <td>12349.0</td>\n",
       "      <td>23843</td>\n",
       "      <td>PAPER CRAFT , LITTLE BIRDIE</td>\n",
       "      <td>23166</td>\n",
       "      <td>MEDIUM CERAMIC TOP STORAGE JAR</td>\n",
       "      <td>84077</td>\n",
       "      <td>WORLD WAR 2 GLIDERS ASSTD DESIGNS</td>\n",
       "      <td>22378</td>\n",
       "      <td>WALL TIDY RETROSPOT</td>\n",
       "      <td>22649</td>\n",
       "      <td>STRAWBERRY FAIRY CAKE TEAPOT</td>\n",
       "      <td>22062</td>\n",
       "      <td>CERAMIC BOWL WITH LOVE HEART DESIGN</td>\n",
       "    </tr>\n",
       "    <tr>\n",
       "      <th>3</th>\n",
       "      <td>12350.0</td>\n",
       "      <td>23843</td>\n",
       "      <td>PAPER CRAFT , LITTLE BIRDIE</td>\n",
       "      <td>23166</td>\n",
       "      <td>MEDIUM CERAMIC TOP STORAGE JAR</td>\n",
       "      <td>84077</td>\n",
       "      <td>WORLD WAR 2 GLIDERS ASSTD DESIGNS</td>\n",
       "      <td>21232</td>\n",
       "      <td>STRAWBERRY CERAMIC TRINKET BOX</td>\n",
       "      <td>21291</td>\n",
       "      <td>SMALL POLKADOT CHOCOLATE GIFT BAG</td>\n",
       "      <td>21289</td>\n",
       "      <td>LARGE STRIPES CHOCOLATE GIFT BAG</td>\n",
       "    </tr>\n",
       "    <tr>\n",
       "      <th>4</th>\n",
       "      <td>12352.0</td>\n",
       "      <td>23843</td>\n",
       "      <td>PAPER CRAFT , LITTLE BIRDIE</td>\n",
       "      <td>23166</td>\n",
       "      <td>MEDIUM CERAMIC TOP STORAGE JAR</td>\n",
       "      <td>84077</td>\n",
       "      <td>WORLD WAR 2 GLIDERS ASSTD DESIGNS</td>\n",
       "      <td>22961</td>\n",
       "      <td>JAM MAKING SET PRINTED</td>\n",
       "      <td>22059</td>\n",
       "      <td>CERAMIC STRAWBERRY DESIGN MUG</td>\n",
       "      <td>22649</td>\n",
       "      <td>STRAWBERRY FAIRY CAKE TEAPOT</td>\n",
       "    </tr>\n",
       "  </tbody>\n",
       "</table>\n",
       "</div>"
      ],
      "text/plain": [
       "   CustomerID Global1_StockCode          Global1_Description  \\\n",
       "0     12347.0             23843  PAPER CRAFT , LITTLE BIRDIE   \n",
       "1     12348.0             23843  PAPER CRAFT , LITTLE BIRDIE   \n",
       "2     12349.0             23843  PAPER CRAFT , LITTLE BIRDIE   \n",
       "3     12350.0             23843  PAPER CRAFT , LITTLE BIRDIE   \n",
       "4     12352.0             23843  PAPER CRAFT , LITTLE BIRDIE   \n",
       "\n",
       "  Global2_StockCode             Global2_Description Global3_StockCode  \\\n",
       "0             23166  MEDIUM CERAMIC TOP STORAGE JAR             84077   \n",
       "1             23166  MEDIUM CERAMIC TOP STORAGE JAR             84077   \n",
       "2             23166  MEDIUM CERAMIC TOP STORAGE JAR             84077   \n",
       "3             23166  MEDIUM CERAMIC TOP STORAGE JAR             84077   \n",
       "4             23166  MEDIUM CERAMIC TOP STORAGE JAR             84077   \n",
       "\n",
       "                 Global3_Description Pers1_StockCode  \\\n",
       "0  WORLD WAR 2 GLIDERS ASSTD DESIGNS           22418   \n",
       "1  WORLD WAR 2 GLIDERS ASSTD DESIGNS           21975   \n",
       "2  WORLD WAR 2 GLIDERS ASSTD DESIGNS           22378   \n",
       "3  WORLD WAR 2 GLIDERS ASSTD DESIGNS           21232   \n",
       "4  WORLD WAR 2 GLIDERS ASSTD DESIGNS           22961   \n",
       "\n",
       "                Pers1_Description Pers2_StockCode  \\\n",
       "0          10 COLOUR SPACEBOY PEN           22693   \n",
       "1  PACK OF 60 DINOSAUR CAKE CASES           21986   \n",
       "2            WALL TIDY RETROSPOT            22649   \n",
       "3  STRAWBERRY CERAMIC TRINKET BOX           21291   \n",
       "4          JAM MAKING SET PRINTED           22059   \n",
       "\n",
       "                    Pers2_Description Pers3_StockCode  \\\n",
       "0  GROW A FLYTRAP OR SUNFLOWER IN TIN           23077   \n",
       "1    PACK OF 12 PINK POLKADOT TISSUES           23309   \n",
       "2        STRAWBERRY FAIRY CAKE TEAPOT           22062   \n",
       "3  SMALL POLKADOT CHOCOLATE GIFT BAG            21289   \n",
       "4       CERAMIC STRAWBERRY DESIGN MUG           22649   \n",
       "\n",
       "                     Pers3_Description  \n",
       "0                  DOUGHNUT LIP GLOSS   \n",
       "1  SET OF 60 I LOVE LONDON CAKE CASES   \n",
       "2  CERAMIC BOWL WITH LOVE HEART DESIGN  \n",
       "3     LARGE STRIPES CHOCOLATE GIFT BAG  \n",
       "4         STRAWBERRY FAIRY CAKE TEAPOT  "
      ]
     },
     "execution_count": 39,
     "metadata": {},
     "output_type": "execute_result"
    }
   ],
   "source": [
    "customer_data_with_recommendations[['CustomerID','Global1_StockCode', 'Global1_Description','Global2_StockCode', 'Global2_Description', 'Global3_StockCode', 'Global3_Description', 'Pers1_StockCode', 'Pers1_Description', 'Pers2_StockCode', 'Pers2_Description', 'Pers3_StockCode', 'Pers3_Description']].head()"
   ]
  }
 ],
 "metadata": {
  "kaggle": {
   "accelerator": "none",
   "dataSources": [
    {
     "datasetId": 1985,
     "sourceId": 3404,
     "sourceType": "datasetVersion"
    }
   ],
   "dockerImageVersionId": 31089,
   "isGpuEnabled": false,
   "isInternetEnabled": true,
   "language": "python",
   "sourceType": "notebook"
  },
  "kernelspec": {
   "display_name": "Python 3",
   "language": "python",
   "name": "python3"
  },
  "language_info": {
   "codemirror_mode": {
    "name": "ipython",
    "version": 3
   },
   "file_extension": ".py",
   "mimetype": "text/x-python",
   "name": "python",
   "nbconvert_exporter": "python",
   "pygments_lexer": "ipython3",
   "version": "3.11.13"
  },
  "papermill": {
   "default_parameters": {},
   "duration": 175.953297,
   "end_time": "2025-09-18T22:13:50.574078",
   "environment_variables": {},
   "exception": null,
   "input_path": "__notebook__.ipynb",
   "output_path": "__notebook__.ipynb",
   "parameters": {},
   "start_time": "2025-09-18T22:10:54.620781",
   "version": "2.6.0"
  }
 },
 "nbformat": 4,
 "nbformat_minor": 5
}
